{
 "cells": [
  {
   "cell_type": "markdown",
   "id": "ca9137c4",
   "metadata": {},
   "source": [
    "## JOINS"
   ]
  },
  {
   "cell_type": "markdown",
   "id": "873f8f6c",
   "metadata": {},
   "source": [
    "# SQL JOIN\n",
    "\n",
    "* A JOIN clause is used to combine rows from two or more tables, based on a related column between them."
   ]
  },
  {
   "cell_type": "markdown",
   "id": "4770ebc4",
   "metadata": {},
   "source": [
    "# Different Types of SQL JOINs"
   ]
  },
  {
   "cell_type": "markdown",
   "id": "b4878b13",
   "metadata": {},
   "source": [
    "<img src = 'https://theartofpostgresql.com/img/SQL-JOINS-Example-0.png'>"
   ]
  },
  {
   "cell_type": "markdown",
   "id": "a78cfa61",
   "metadata": {},
   "source": [
    "Here are the different types of the JOINs in SQL:\n",
    "\n",
    "* (INNER) JOIN: Returns records that have matching values in both tables\n",
    "* LEFT (OUTER) JOIN: Returns all records from the left table, and the matched records from the right table\n",
    "* RIGHT (OUTER) JOIN: Returns all records from the right table, and the matched records from the left table\n",
    "* FULL (OUTER) JOIN: Returns all records when there is a match in either left or right table"
   ]
  },
  {
   "cell_type": "markdown",
   "id": "41c4397e",
   "metadata": {},
   "source": [
    "# Let's look at a selection from the \"Orders\" table:\n",
    "\n",
    "# Then, look at a selection from the \"Customers\" table:"
   ]
  },
  {
   "cell_type": "code",
   "execution_count": 28,
   "id": "c0de373d",
   "metadata": {},
   "outputs": [
    {
     "name": "stdout",
     "output_type": "stream",
     "text": [
      "Orders Table\n",
      "   OrderID  CustomerID  OrderDate\n",
      "0    10308           2       1969\n",
      "1    10309          37       1968\n",
      "2    10310          77       1967\n",
      "\n",
      "\n",
      "Customers Table\n",
      "   CustomerID CustomerName ContactName       City\n",
      "0           1        Pavan       Kumar    Kurnool\n",
      "1           2     Priyanka       Pinky  Hyderabad\n",
      "2           3       Sanvee        Guna  Bangalore\n"
     ]
    }
   ],
   "source": [
    "# Creating data for joins illustration\n",
    "import pandas as pd\n",
    "\n",
    "orders=pd.DataFrame({\n",
    "    \"OrderID\":[10308,10309,10310],\n",
    "    \"CustomerID\":[2,37,77],\n",
    "    \"OrderDate\":[1996-9-18,1996-9-19,1996-9-20]\n",
    "})\n",
    "\n",
    "customers=pd.DataFrame({\n",
    "    \"CustomerID\":[1,2,3],\n",
    "    \"CustomerName\":[\"Pavan\",\"Priyanka\",\"Sanvee\"],\n",
    "    \"ContactName\":[\"Kumar\",\"Pinky\",\"Guna\"],\n",
    "    \"City\":[\"Kurnool\",\"Hyderabad\",\"Bangalore\"]\n",
    "})\n",
    "\n",
    "print(\"Orders Table\")\n",
    "print(orders)\n",
    "print('\\n')\n",
    "print(\"Customers Table\")\n",
    "print(customers)"
   ]
  },
  {
   "cell_type": "markdown",
   "id": "0c482f75",
   "metadata": {},
   "source": [
    "* Notice that the \"CustomerID\" column in the \"Orders\" table refers to the \"CustomerID\" in the \"Customers\" table. The relationship between the two tables above is the \"CustomerID\" column.\n",
    "\n",
    "* Then, we can create the following SQL statement (that contains an INNER JOIN), that selects records that have matching values in both tables:"
   ]
  },
  {
   "cell_type": "markdown",
   "id": "7977f935",
   "metadata": {},
   "source": [
    "# The simplest Join is INNER JOIN.\n",
    "\n",
    "* INNER JOIN: The INNER JOIN keyword selects all rows from both the tables as long as the condition satisfies. This keyword will create the result-set by combining all rows from both the tables where the condition satisfies i.e value of the common field will be same.\n",
    "\n",
    "## Syntax:\n",
    "* SELECT table1.column1,table1.column2,table2.column1,....\n",
    "* FROM orders\n",
    "* INNER JOIN customers\n",
    "* ON orders.CustomerID = customers.CustomerID;\n",
    "\n",
    "\n",
    "* table1: orders table.\n",
    "* table2: customers table\n",
    "* matching_column: Column common to both the tables is CustomerID.\n",
    "\n",
    "               Note: We can also write JOIN instead of INNER JOIN. JOIN is same as INNER JOIN.\n",
    "\n",
    "<img src = 'https://blog.codinghorror.com/content/images/uploads/2007/10/6a0120a85dcdae970b012877702708970c-pi.png'>\n"
   ]
  },
  {
   "cell_type": "code",
   "execution_count": 29,
   "id": "8bcd3270",
   "metadata": {},
   "outputs": [
    {
     "data": {
      "text/html": [
       "<div><div id=b5ddfe9d-7725-4be2-a2cc-0ad1dc1a5ee6 style=\"display:none; background-color:#9D6CFF; color:white; width:200px; height:30px; padding-left:5px; border-radius:4px; flex-direction:row; justify-content:space-around; align-items:center;\" onmouseover=\"this.style.backgroundColor='#BA9BF8'\" onmouseout=\"this.style.backgroundColor='#9D6CFF'\" onclick=\"window.commands?.execute('create-mitosheet-from-dataframe-output');\">See Full Dataframe in Mito</div> <script> if (window.commands.hasCommand('create-mitosheet-from-dataframe-output')) document.getElementById('b5ddfe9d-7725-4be2-a2cc-0ad1dc1a5ee6').style.display = 'flex' </script> <table border=\"1\" class=\"dataframe\">\n",
       "  <thead>\n",
       "    <tr style=\"text-align: right;\">\n",
       "      <th></th>\n",
       "      <th>OrderID</th>\n",
       "      <th>CustomerID</th>\n",
       "      <th>OrderDate</th>\n",
       "      <th>CustomerName</th>\n",
       "      <th>ContactName</th>\n",
       "      <th>City</th>\n",
       "    </tr>\n",
       "  </thead>\n",
       "  <tbody>\n",
       "    <tr>\n",
       "      <th>0</th>\n",
       "      <td>10308</td>\n",
       "      <td>2</td>\n",
       "      <td>1969</td>\n",
       "      <td>Priyanka</td>\n",
       "      <td>Pinky</td>\n",
       "      <td>Hyderabad</td>\n",
       "    </tr>\n",
       "  </tbody>\n",
       "</table></div>"
      ],
      "text/plain": [
       "   OrderID  CustomerID  OrderDate CustomerName ContactName       City\n",
       "0    10308           2       1969     Priyanka       Pinky  Hyderabad"
      ]
     },
     "execution_count": 29,
     "metadata": {},
     "output_type": "execute_result"
    }
   ],
   "source": [
    "# In orders and Customers table common column is CustomerID\n",
    "# Common value inside both CustomerID columns is 2, so only called inner\n",
    "# So The data from both tables are merged accordingly \n",
    "inner_join = pd.merge(orders,customers,on = \"CustomerID\",how = \"inner\") \n",
    "inner_join"
   ]
  },
  {
   "cell_type": "markdown",
   "id": "9dfe188e",
   "metadata": {},
   "source": [
    "## LEFT JOIN: \n",
    "* This join returns all the rows of the table on the left side of the join and matching rows for the table on the right side of join. The rows for which there is no matching row on right side, the result-set will contain null. LEFT JOIN is also known as LEFT OUTER\n",
    "\n",
    "# LEFT OUTER JOIN.Syntax:\n",
    "* SELECT orders.column1,orders.column2,customers.column1,....\n",
    "* FROM table1 \n",
    "* LEFT JOIN customers\n",
    "* ON orders.CustomerID = table2.CustomerID;\n",
    "\n",
    "\n",
    "* table1: orders\n",
    "* table2: customers\n",
    "* matching_column: Column common to both the tables.\n",
    "\n",
    "                 Note: We can also use LEFT OUTER JOIN instead of LEFT JOIN, both are same.\n",
    "                 \n",
    "                 "
   ]
  },
  {
   "cell_type": "markdown",
   "id": "42fbc663",
   "metadata": {},
   "source": [
    "<img src ='https://i.stack.imgur.com/VkAT5.png'>"
   ]
  },
  {
   "cell_type": "code",
   "execution_count": 30,
   "id": "04541218",
   "metadata": {},
   "outputs": [
    {
     "data": {
      "text/html": [
       "<div><div id=3080b142-cd74-4bcf-a956-f2f5002372b2 style=\"display:none; background-color:#9D6CFF; color:white; width:200px; height:30px; padding-left:5px; border-radius:4px; flex-direction:row; justify-content:space-around; align-items:center;\" onmouseover=\"this.style.backgroundColor='#BA9BF8'\" onmouseout=\"this.style.backgroundColor='#9D6CFF'\" onclick=\"window.commands?.execute('create-mitosheet-from-dataframe-output');\">See Full Dataframe in Mito</div> <script> if (window.commands.hasCommand('create-mitosheet-from-dataframe-output')) document.getElementById('3080b142-cd74-4bcf-a956-f2f5002372b2').style.display = 'flex' </script> <table border=\"1\" class=\"dataframe\">\n",
       "  <thead>\n",
       "    <tr style=\"text-align: right;\">\n",
       "      <th></th>\n",
       "      <th>OrderID</th>\n",
       "      <th>CustomerID</th>\n",
       "      <th>OrderDate</th>\n",
       "      <th>CustomerName</th>\n",
       "      <th>ContactName</th>\n",
       "      <th>City</th>\n",
       "    </tr>\n",
       "  </thead>\n",
       "  <tbody>\n",
       "    <tr>\n",
       "      <th>0</th>\n",
       "      <td>10308</td>\n",
       "      <td>2</td>\n",
       "      <td>1969</td>\n",
       "      <td>Priyanka</td>\n",
       "      <td>Pinky</td>\n",
       "      <td>Hyderabad</td>\n",
       "    </tr>\n",
       "    <tr>\n",
       "      <th>1</th>\n",
       "      <td>10309</td>\n",
       "      <td>37</td>\n",
       "      <td>1968</td>\n",
       "      <td>NaN</td>\n",
       "      <td>NaN</td>\n",
       "      <td>NaN</td>\n",
       "    </tr>\n",
       "    <tr>\n",
       "      <th>2</th>\n",
       "      <td>10310</td>\n",
       "      <td>77</td>\n",
       "      <td>1967</td>\n",
       "      <td>NaN</td>\n",
       "      <td>NaN</td>\n",
       "      <td>NaN</td>\n",
       "    </tr>\n",
       "  </tbody>\n",
       "</table></div>"
      ],
      "text/plain": [
       "   OrderID  CustomerID  OrderDate CustomerName ContactName       City\n",
       "0    10308           2       1969     Priyanka       Pinky  Hyderabad\n",
       "1    10309          37       1968          NaN         NaN        NaN\n",
       "2    10310          77       1967          NaN         NaN        NaN"
      ]
     },
     "execution_count": 30,
     "metadata": {},
     "output_type": "execute_result"
    }
   ],
   "source": [
    "# In orders table left column orderID will match with the values present in right side of customers table\n",
    "# if no mathces it wil return NaN known as null value\n",
    "left_join = pd.merge(orders,customers,on = \"CustomerID\",how = \"left\") \n",
    "left_join"
   ]
  },
  {
   "cell_type": "markdown",
   "id": "a7c69ec3",
   "metadata": {},
   "source": [
    "## Right Join\n",
    "* RIGHT JOIN is similar to LEFT JOIN. This join returns all the rows of the table on the right side of the join and matching rows for the table on the left side of join. The rows for which there is no matching row on left side, the result-set will contain null. RIGHT JOIN is also known as RIGHT OUTER JOIN.\n",
    "\n",
    "# Syntax:\n",
    "* SELECT orders.column1,orders.column2,customers.column1,....\n",
    "* FROM orders\n",
    "* RIGHT JOIN customers\n",
    "* ON orders.ColumnID = customers.ColumnID;\n",
    "\n",
    "\n",
    "* table1: oders\n",
    "* table2: customers\n",
    "* matching_column: Column common to both the tables is CustomerID\n",
    "* Note: We can also use RIGHT OUTER JOIN instead of RIGHT JOIN, both are same."
   ]
  },
  {
   "cell_type": "markdown",
   "id": "c9967277",
   "metadata": {},
   "source": [
    "<img src='https://www.tutorialrepublic.com/lib/images/right-join.png'>"
   ]
  },
  {
   "cell_type": "code",
   "execution_count": 33,
   "id": "184f63ad",
   "metadata": {},
   "outputs": [
    {
     "name": "stdout",
     "output_type": "stream",
     "text": [
      "   OrderID  CustomerID  OrderDate\n",
      "0    10308           2       1969\n",
      "1    10309          37       1968\n",
      "2    10310          77       1967\n",
      "   CustomerID CustomerName ContactName       City\n",
      "0           1        Pavan       Kumar    Kurnool\n",
      "1           2     Priyanka       Pinky  Hyderabad\n",
      "2           3       Sanvee        Guna  Bangalore\n"
     ]
    }
   ],
   "source": [
    "print(orders)\n",
    "print(customers)"
   ]
  },
  {
   "cell_type": "code",
   "execution_count": 36,
   "id": "1ae1914d",
   "metadata": {},
   "outputs": [
    {
     "data": {
      "text/html": [
       "<div><div id=e412226e-53d8-4bf7-acfd-c02d0c7b667a style=\"display:none; background-color:#9D6CFF; color:white; width:200px; height:30px; padding-left:5px; border-radius:4px; flex-direction:row; justify-content:space-around; align-items:center;\" onmouseover=\"this.style.backgroundColor='#BA9BF8'\" onmouseout=\"this.style.backgroundColor='#9D6CFF'\" onclick=\"window.commands?.execute('create-mitosheet-from-dataframe-output');\">See Full Dataframe in Mito</div> <script> if (window.commands.hasCommand('create-mitosheet-from-dataframe-output')) document.getElementById('e412226e-53d8-4bf7-acfd-c02d0c7b667a').style.display = 'flex' </script> <table border=\"1\" class=\"dataframe\">\n",
       "  <thead>\n",
       "    <tr style=\"text-align: right;\">\n",
       "      <th></th>\n",
       "      <th>OrderID</th>\n",
       "      <th>CustomerID</th>\n",
       "      <th>OrderDate</th>\n",
       "      <th>CustomerName</th>\n",
       "      <th>ContactName</th>\n",
       "      <th>City</th>\n",
       "    </tr>\n",
       "  </thead>\n",
       "  <tbody>\n",
       "    <tr>\n",
       "      <th>0</th>\n",
       "      <td>NaN</td>\n",
       "      <td>1</td>\n",
       "      <td>NaN</td>\n",
       "      <td>Pavan</td>\n",
       "      <td>Kumar</td>\n",
       "      <td>Kurnool</td>\n",
       "    </tr>\n",
       "    <tr>\n",
       "      <th>1</th>\n",
       "      <td>10308.0</td>\n",
       "      <td>2</td>\n",
       "      <td>1969.0</td>\n",
       "      <td>Priyanka</td>\n",
       "      <td>Pinky</td>\n",
       "      <td>Hyderabad</td>\n",
       "    </tr>\n",
       "    <tr>\n",
       "      <th>2</th>\n",
       "      <td>NaN</td>\n",
       "      <td>3</td>\n",
       "      <td>NaN</td>\n",
       "      <td>Sanvee</td>\n",
       "      <td>Guna</td>\n",
       "      <td>Bangalore</td>\n",
       "    </tr>\n",
       "  </tbody>\n",
       "</table></div>"
      ],
      "text/plain": [
       "   OrderID  CustomerID  OrderDate CustomerName ContactName       City\n",
       "0      NaN           1        NaN        Pavan       Kumar    Kurnool\n",
       "1  10308.0           2     1969.0     Priyanka       Pinky  Hyderabad\n",
       "2      NaN           3        NaN       Sanvee        Guna  Bangalore"
      ]
     },
     "execution_count": 36,
     "metadata": {},
     "output_type": "execute_result"
    }
   ],
   "source": [
    "right_join = pd.merge(orders,customers,on = \"CustomerID\",how = \"right\") \n",
    "right_join"
   ]
  },
  {
   "cell_type": "markdown",
   "id": "15003f4e",
   "metadata": {},
   "source": [
    "# Full Join"
   ]
  },
  {
   "cell_type": "markdown",
   "id": "877b5646",
   "metadata": {},
   "source": [
    "# FULL JOIN: \n",
    "FULL JOIN creates the result-set by combining result of both LEFT JOIN and RIGHT JOIN. The result-set will contain all the rows from both the tables. The rows for which there is no matching, the result-set will contain NULL values.\n",
    "\n",
    "# Syntax:\n",
    "* SELECT orders.column1,orders.column2,customers.column1,....\n",
    "* FROM orders\n",
    "* FULL JOIN customers\n",
    "* ON orders.CustomerID = customers.CustomerID;\n",
    "\n",
    "\n",
    "* table1: orders.\n",
    "* table2: customers\n",
    "* matching_column: Column common to both the tables is CustomerID\n"
   ]
  },
  {
   "cell_type": "markdown",
   "id": "829cc5d9",
   "metadata": {},
   "source": [
    "<img src = 'https://i.stack.imgur.com/3Ll1h.png'>"
   ]
  },
  {
   "cell_type": "code",
   "execution_count": 35,
   "id": "0d22a6a0",
   "metadata": {},
   "outputs": [
    {
     "data": {
      "text/html": [
       "<div><div id=693d9562-771d-4d65-834e-e017a6624886 style=\"display:none; background-color:#9D6CFF; color:white; width:200px; height:30px; padding-left:5px; border-radius:4px; flex-direction:row; justify-content:space-around; align-items:center;\" onmouseover=\"this.style.backgroundColor='#BA9BF8'\" onmouseout=\"this.style.backgroundColor='#9D6CFF'\" onclick=\"window.commands?.execute('create-mitosheet-from-dataframe-output');\">See Full Dataframe in Mito</div> <script> if (window.commands.hasCommand('create-mitosheet-from-dataframe-output')) document.getElementById('693d9562-771d-4d65-834e-e017a6624886').style.display = 'flex' </script> <table border=\"1\" class=\"dataframe\">\n",
       "  <thead>\n",
       "    <tr style=\"text-align: right;\">\n",
       "      <th></th>\n",
       "      <th>OrderID</th>\n",
       "      <th>CustomerID</th>\n",
       "      <th>OrderDate</th>\n",
       "      <th>CustomerName</th>\n",
       "      <th>ContactName</th>\n",
       "      <th>City</th>\n",
       "    </tr>\n",
       "  </thead>\n",
       "  <tbody>\n",
       "    <tr>\n",
       "      <th>0</th>\n",
       "      <td>10308.0</td>\n",
       "      <td>2</td>\n",
       "      <td>1969.0</td>\n",
       "      <td>Priyanka</td>\n",
       "      <td>Pinky</td>\n",
       "      <td>Hyderabad</td>\n",
       "    </tr>\n",
       "    <tr>\n",
       "      <th>1</th>\n",
       "      <td>10309.0</td>\n",
       "      <td>37</td>\n",
       "      <td>1968.0</td>\n",
       "      <td>NaN</td>\n",
       "      <td>NaN</td>\n",
       "      <td>NaN</td>\n",
       "    </tr>\n",
       "    <tr>\n",
       "      <th>2</th>\n",
       "      <td>10310.0</td>\n",
       "      <td>77</td>\n",
       "      <td>1967.0</td>\n",
       "      <td>NaN</td>\n",
       "      <td>NaN</td>\n",
       "      <td>NaN</td>\n",
       "    </tr>\n",
       "    <tr>\n",
       "      <th>3</th>\n",
       "      <td>NaN</td>\n",
       "      <td>1</td>\n",
       "      <td>NaN</td>\n",
       "      <td>Pavan</td>\n",
       "      <td>Kumar</td>\n",
       "      <td>Kurnool</td>\n",
       "    </tr>\n",
       "    <tr>\n",
       "      <th>4</th>\n",
       "      <td>NaN</td>\n",
       "      <td>3</td>\n",
       "      <td>NaN</td>\n",
       "      <td>Sanvee</td>\n",
       "      <td>Guna</td>\n",
       "      <td>Bangalore</td>\n",
       "    </tr>\n",
       "  </tbody>\n",
       "</table></div>"
      ],
      "text/plain": [
       "   OrderID  CustomerID  OrderDate CustomerName ContactName       City\n",
       "0  10308.0           2     1969.0     Priyanka       Pinky  Hyderabad\n",
       "1  10309.0          37     1968.0          NaN         NaN        NaN\n",
       "2  10310.0          77     1967.0          NaN         NaN        NaN\n",
       "3      NaN           1        NaN        Pavan       Kumar    Kurnool\n",
       "4      NaN           3        NaN       Sanvee        Guna  Bangalore"
      ]
     },
     "execution_count": 35,
     "metadata": {},
     "output_type": "execute_result"
    }
   ],
   "source": [
    "# fulljoin here is given as how = \"outer\"\n",
    "# \n",
    "full_join = pd.merge(orders,customers,on = \"CustomerID\",how = \"outer\") \n",
    "full_join"
   ]
  },
  {
   "cell_type": "code",
   "execution_count": 42,
   "id": "463a3a12",
   "metadata": {},
   "outputs": [
    {
     "name": "stdout",
     "output_type": "stream",
     "text": [
      "          name  age\n",
      "0     Sasikala   62\n",
      "1     Priyanka   32\n",
      "2  Teja Jyothi   36\n"
     ]
    }
   ],
   "source": [
    "# Creating data for joins illustration\n",
    "import pandas as pd\n",
    "\n",
    "data1 ={\n",
    "    \"name\":[\"Sanjeevanath\",\"Pavan\",\"Mallik\"],\n",
    "       \"age\":[72,36,38]\n",
    "}\n",
    "\n",
    "data2 = {\n",
    "    \"name\":[\"Sasikala\",\"Priyanka\",\"Teja Jyothi\"],\n",
    "    \"age\":[62,32,36]\n",
    "}\n",
    "\n",
    "df1 = pd.DataFrame(data1)\n",
    "df2 = pd.DataFrame(data2)\n",
    "\n",
    "newdf = df1.merge(df2, how='right') # want to merge using right joint\n",
    "print(newdf)"
   ]
  },
  {
   "cell_type": "code",
   "execution_count": 44,
   "id": "536109ee",
   "metadata": {},
   "outputs": [
    {
     "data": {
      "text/html": [
       "<div><div id=2beaec14-ec83-4e40-aafe-f7d9c90b630d style=\"display:none; background-color:#9D6CFF; color:white; width:200px; height:30px; padding-left:5px; border-radius:4px; flex-direction:row; justify-content:space-around; align-items:center;\" onmouseover=\"this.style.backgroundColor='#BA9BF8'\" onmouseout=\"this.style.backgroundColor='#9D6CFF'\" onclick=\"window.commands?.execute('create-mitosheet-from-dataframe-output');\">See Full Dataframe in Mito</div> <script> if (window.commands.hasCommand('create-mitosheet-from-dataframe-output')) document.getElementById('2beaec14-ec83-4e40-aafe-f7d9c90b630d').style.display = 'flex' </script> <table border=\"1\" class=\"dataframe\">\n",
       "  <thead>\n",
       "    <tr style=\"text-align: right;\">\n",
       "      <th></th>\n",
       "      <th>name</th>\n",
       "      <th>age</th>\n",
       "    </tr>\n",
       "  </thead>\n",
       "  <tbody>\n",
       "    <tr>\n",
       "      <th>0</th>\n",
       "      <td>Sanjeevanath</td>\n",
       "      <td>72</td>\n",
       "    </tr>\n",
       "    <tr>\n",
       "      <th>1</th>\n",
       "      <td>Pavan</td>\n",
       "      <td>36</td>\n",
       "    </tr>\n",
       "    <tr>\n",
       "      <th>2</th>\n",
       "      <td>Mallik</td>\n",
       "      <td>38</td>\n",
       "    </tr>\n",
       "  </tbody>\n",
       "</table></div>"
      ],
      "text/plain": [
       "           name  age\n",
       "0  Sanjeevanath   72\n",
       "1         Pavan   36\n",
       "2        Mallik   38"
      ]
     },
     "execution_count": 44,
     "metadata": {},
     "output_type": "execute_result"
    }
   ],
   "source": [
    "df1"
   ]
  },
  {
   "cell_type": "code",
   "execution_count": 45,
   "id": "c3c7a435",
   "metadata": {},
   "outputs": [
    {
     "data": {
      "text/html": [
       "<div><div id=4d1fb91d-b9dc-4187-ac56-344ea29182c4 style=\"display:none; background-color:#9D6CFF; color:white; width:200px; height:30px; padding-left:5px; border-radius:4px; flex-direction:row; justify-content:space-around; align-items:center;\" onmouseover=\"this.style.backgroundColor='#BA9BF8'\" onmouseout=\"this.style.backgroundColor='#9D6CFF'\" onclick=\"window.commands?.execute('create-mitosheet-from-dataframe-output');\">See Full Dataframe in Mito</div> <script> if (window.commands.hasCommand('create-mitosheet-from-dataframe-output')) document.getElementById('4d1fb91d-b9dc-4187-ac56-344ea29182c4').style.display = 'flex' </script> <table border=\"1\" class=\"dataframe\">\n",
       "  <thead>\n",
       "    <tr style=\"text-align: right;\">\n",
       "      <th></th>\n",
       "      <th>name</th>\n",
       "      <th>age</th>\n",
       "    </tr>\n",
       "  </thead>\n",
       "  <tbody>\n",
       "    <tr>\n",
       "      <th>0</th>\n",
       "      <td>Sasikala</td>\n",
       "      <td>62</td>\n",
       "    </tr>\n",
       "    <tr>\n",
       "      <th>1</th>\n",
       "      <td>Priyanka</td>\n",
       "      <td>32</td>\n",
       "    </tr>\n",
       "    <tr>\n",
       "      <th>2</th>\n",
       "      <td>Teja Jyothi</td>\n",
       "      <td>36</td>\n",
       "    </tr>\n",
       "  </tbody>\n",
       "</table></div>"
      ],
      "text/plain": [
       "          name  age\n",
       "0     Sasikala   62\n",
       "1     Priyanka   32\n",
       "2  Teja Jyothi   36"
      ]
     },
     "execution_count": 45,
     "metadata": {},
     "output_type": "execute_result"
    }
   ],
   "source": [
    "df2"
   ]
  },
  {
   "cell_type": "code",
   "execution_count": 41,
   "id": "7b2e28fb",
   "metadata": {},
   "outputs": [
    {
     "data": {
      "text/html": [
       "<div><div id=f1e4c73a-5474-4da5-9d59-4d6ada711565 style=\"display:none; background-color:#9D6CFF; color:white; width:200px; height:30px; padding-left:5px; border-radius:4px; flex-direction:row; justify-content:space-around; align-items:center;\" onmouseover=\"this.style.backgroundColor='#BA9BF8'\" onmouseout=\"this.style.backgroundColor='#9D6CFF'\" onclick=\"window.commands?.execute('create-mitosheet-from-dataframe-output');\">See Full Dataframe in Mito</div> <script> if (window.commands.hasCommand('create-mitosheet-from-dataframe-output')) document.getElementById('f1e4c73a-5474-4da5-9d59-4d6ada711565').style.display = 'flex' </script> <table border=\"1\" class=\"dataframe\">\n",
       "  <thead>\n",
       "    <tr style=\"text-align: right;\">\n",
       "      <th></th>\n",
       "      <th>name</th>\n",
       "      <th>age_x</th>\n",
       "      <th>age_y</th>\n",
       "    </tr>\n",
       "  </thead>\n",
       "  <tbody>\n",
       "    <tr>\n",
       "      <th>0</th>\n",
       "      <td>Sanjeevanath</td>\n",
       "      <td>72.0</td>\n",
       "      <td>NaN</td>\n",
       "    </tr>\n",
       "    <tr>\n",
       "      <th>1</th>\n",
       "      <td>Pavan</td>\n",
       "      <td>36.0</td>\n",
       "      <td>NaN</td>\n",
       "    </tr>\n",
       "    <tr>\n",
       "      <th>2</th>\n",
       "      <td>Mallik</td>\n",
       "      <td>38.0</td>\n",
       "      <td>NaN</td>\n",
       "    </tr>\n",
       "    <tr>\n",
       "      <th>3</th>\n",
       "      <td>Sasikala</td>\n",
       "      <td>NaN</td>\n",
       "      <td>62.0</td>\n",
       "    </tr>\n",
       "    <tr>\n",
       "      <th>4</th>\n",
       "      <td>Priyanka</td>\n",
       "      <td>NaN</td>\n",
       "      <td>32.0</td>\n",
       "    </tr>\n",
       "    <tr>\n",
       "      <th>5</th>\n",
       "      <td>Teja Jyothi</td>\n",
       "      <td>NaN</td>\n",
       "      <td>36.0</td>\n",
       "    </tr>\n",
       "  </tbody>\n",
       "</table></div>"
      ],
      "text/plain": [
       "           name  age_x  age_y\n",
       "0  Sanjeevanath   72.0    NaN\n",
       "1         Pavan   36.0    NaN\n",
       "2        Mallik   38.0    NaN\n",
       "3      Sasikala    NaN   62.0\n",
       "4      Priyanka    NaN   32.0\n",
       "5   Teja Jyothi    NaN   36.0"
      ]
     },
     "execution_count": 41,
     "metadata": {},
     "output_type": "execute_result"
    }
   ],
   "source": [
    "# By default how = \"inner\"\n",
    "df3 = pd.merge(df1,df2,on = \"name\",how = \"outer\")\n",
    "df3"
   ]
  },
  {
   "cell_type": "code",
   "execution_count": 46,
   "id": "87cae85c",
   "metadata": {},
   "outputs": [
    {
     "data": {
      "text/html": [
       "<div><div id=b7f19140-0213-4ef8-af3b-ecae58afd22b style=\"display:none; background-color:#9D6CFF; color:white; width:200px; height:30px; padding-left:5px; border-radius:4px; flex-direction:row; justify-content:space-around; align-items:center;\" onmouseover=\"this.style.backgroundColor='#BA9BF8'\" onmouseout=\"this.style.backgroundColor='#9D6CFF'\" onclick=\"window.commands?.execute('create-mitosheet-from-dataframe-output');\">See Full Dataframe in Mito</div> <script> if (window.commands.hasCommand('create-mitosheet-from-dataframe-output')) document.getElementById('b7f19140-0213-4ef8-af3b-ecae58afd22b').style.display = 'flex' </script> <table border=\"1\" class=\"dataframe\">\n",
       "  <thead>\n",
       "    <tr style=\"text-align: right;\">\n",
       "      <th></th>\n",
       "      <th>name</th>\n",
       "      <th>age_x</th>\n",
       "      <th>age_y</th>\n",
       "    </tr>\n",
       "  </thead>\n",
       "  <tbody>\n",
       "    <tr>\n",
       "      <th>0</th>\n",
       "      <td>Sanjeevanath</td>\n",
       "      <td>72</td>\n",
       "      <td>NaN</td>\n",
       "    </tr>\n",
       "    <tr>\n",
       "      <th>1</th>\n",
       "      <td>Pavan</td>\n",
       "      <td>36</td>\n",
       "      <td>NaN</td>\n",
       "    </tr>\n",
       "    <tr>\n",
       "      <th>2</th>\n",
       "      <td>Mallik</td>\n",
       "      <td>38</td>\n",
       "      <td>NaN</td>\n",
       "    </tr>\n",
       "  </tbody>\n",
       "</table></div>"
      ],
      "text/plain": [
       "           name  age_x  age_y\n",
       "0  Sanjeevanath     72    NaN\n",
       "1         Pavan     36    NaN\n",
       "2        Mallik     38    NaN"
      ]
     },
     "execution_count": 46,
     "metadata": {},
     "output_type": "execute_result"
    }
   ],
   "source": [
    "df3 = pd.merge(df1,df2,on = \"name\",how = \"left\")\n",
    "df3"
   ]
  },
  {
   "cell_type": "code",
   "execution_count": 48,
   "id": "382a21a5",
   "metadata": {},
   "outputs": [
    {
     "data": {
      "text/html": [
       "<div><div id=48641080-f3ad-4f37-a66b-5ed9b32d253b style=\"display:none; background-color:#9D6CFF; color:white; width:200px; height:30px; padding-left:5px; border-radius:4px; flex-direction:row; justify-content:space-around; align-items:center;\" onmouseover=\"this.style.backgroundColor='#BA9BF8'\" onmouseout=\"this.style.backgroundColor='#9D6CFF'\" onclick=\"window.commands?.execute('create-mitosheet-from-dataframe-output');\">See Full Dataframe in Mito</div> <script> if (window.commands.hasCommand('create-mitosheet-from-dataframe-output')) document.getElementById('48641080-f3ad-4f37-a66b-5ed9b32d253b').style.display = 'flex' </script> <table border=\"1\" class=\"dataframe\">\n",
       "  <thead>\n",
       "    <tr style=\"text-align: right;\">\n",
       "      <th></th>\n",
       "      <th>name</th>\n",
       "      <th>age_x</th>\n",
       "      <th>age_y</th>\n",
       "    </tr>\n",
       "  </thead>\n",
       "  <tbody>\n",
       "    <tr>\n",
       "      <th>0</th>\n",
       "      <td>Sasikala</td>\n",
       "      <td>NaN</td>\n",
       "      <td>62</td>\n",
       "    </tr>\n",
       "    <tr>\n",
       "      <th>1</th>\n",
       "      <td>Priyanka</td>\n",
       "      <td>NaN</td>\n",
       "      <td>32</td>\n",
       "    </tr>\n",
       "    <tr>\n",
       "      <th>2</th>\n",
       "      <td>Teja Jyothi</td>\n",
       "      <td>NaN</td>\n",
       "      <td>36</td>\n",
       "    </tr>\n",
       "  </tbody>\n",
       "</table></div>"
      ],
      "text/plain": [
       "          name  age_x  age_y\n",
       "0     Sasikala    NaN     62\n",
       "1     Priyanka    NaN     32\n",
       "2  Teja Jyothi    NaN     36"
      ]
     },
     "execution_count": 48,
     "metadata": {},
     "output_type": "execute_result"
    }
   ],
   "source": [
    "df3 = pd.merge(df1,df2,on = \"name\",how = \"right\")\n",
    "df3"
   ]
  },
  {
   "cell_type": "code",
   "execution_count": null,
   "id": "70f8b7bc",
   "metadata": {},
   "outputs": [],
   "source": []
  },
  {
   "cell_type": "code",
   "execution_count": null,
   "id": "ae9b72a6",
   "metadata": {},
   "outputs": [],
   "source": []
  },
  {
   "cell_type": "code",
   "execution_count": null,
   "id": "02fee396",
   "metadata": {},
   "outputs": [],
   "source": []
  },
  {
   "cell_type": "code",
   "execution_count": null,
   "id": "17cecc92",
   "metadata": {},
   "outputs": [],
   "source": []
  }
 ],
 "metadata": {
  "kernelspec": {
   "display_name": "Python 3",
   "language": "python",
   "name": "python3"
  },
  "language_info": {
   "codemirror_mode": {
    "name": "ipython",
    "version": 3
   },
   "file_extension": ".py",
   "mimetype": "text/x-python",
   "name": "python",
   "nbconvert_exporter": "python",
   "pygments_lexer": "ipython3",
   "version": "3.8.8"
  }
 },
 "nbformat": 4,
 "nbformat_minor": 5
}
