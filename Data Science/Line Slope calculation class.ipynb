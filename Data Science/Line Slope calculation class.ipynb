{
 "cells": [
  {
   "cell_type": "markdown",
   "id": "884bb737",
   "metadata": {},
   "source": [
    "# Linear Regression"
   ]
  },
  {
   "cell_type": "markdown",
   "id": "dc028194",
   "metadata": {},
   "source": [
    "$$ y = m*X + c $$"
   ]
  },
  {
   "cell_type": "code",
   "execution_count": 2,
   "id": "1d1b4f35",
   "metadata": {},
   "outputs": [],
   "source": [
    "import pandas as pd\n",
    "import numpy as np"
   ]
  },
  {
   "cell_type": "code",
   "execution_count": 3,
   "id": "709b2c48",
   "metadata": {},
   "outputs": [],
   "source": [
    "data = {\n",
    "    \"X\" : list(range(1, 8)),\n",
    "    'Y' : [1.5, 3.8, 6.7, 9.0, 11.2, 13.6, 16]\n",
    "}"
   ]
  },
  {
   "cell_type": "code",
   "execution_count": 4,
   "id": "4e1039c0",
   "metadata": {},
   "outputs": [],
   "source": [
    "dataFrame = pd.DataFrame(data=data)"
   ]
  },
  {
   "cell_type": "code",
   "execution_count": 5,
   "id": "4412ca66",
   "metadata": {},
   "outputs": [
    {
     "data": {
      "text/html": [
       "<div><div id=918e5068-100a-43d3-8b35-8c9146de5c12 style=\"display:none; background-color:#9D6CFF; color:white; width:200px; height:30px; padding-left:5px; border-radius:4px; flex-direction:row; justify-content:space-around; align-items:center;\" onmouseover=\"this.style.backgroundColor='#BA9BF8'\" onmouseout=\"this.style.backgroundColor='#9D6CFF'\" onclick=\"window.commands?.execute('create-mitosheet-from-dataframe-output');\">See Full Dataframe in Mito</div> <script> if (window.commands.hasCommand('create-mitosheet-from-dataframe-output')) document.getElementById('918e5068-100a-43d3-8b35-8c9146de5c12').style.display = 'flex' </script> <table border=\"1\" class=\"dataframe\">\n",
       "  <thead>\n",
       "    <tr style=\"text-align: right;\">\n",
       "      <th></th>\n",
       "      <th>X</th>\n",
       "      <th>Y</th>\n",
       "    </tr>\n",
       "  </thead>\n",
       "  <tbody>\n",
       "    <tr>\n",
       "      <th>0</th>\n",
       "      <td>1</td>\n",
       "      <td>1.5</td>\n",
       "    </tr>\n",
       "    <tr>\n",
       "      <th>1</th>\n",
       "      <td>2</td>\n",
       "      <td>3.8</td>\n",
       "    </tr>\n",
       "    <tr>\n",
       "      <th>2</th>\n",
       "      <td>3</td>\n",
       "      <td>6.7</td>\n",
       "    </tr>\n",
       "    <tr>\n",
       "      <th>3</th>\n",
       "      <td>4</td>\n",
       "      <td>9.0</td>\n",
       "    </tr>\n",
       "    <tr>\n",
       "      <th>4</th>\n",
       "      <td>5</td>\n",
       "      <td>11.2</td>\n",
       "    </tr>\n",
       "    <tr>\n",
       "      <th>5</th>\n",
       "      <td>6</td>\n",
       "      <td>13.6</td>\n",
       "    </tr>\n",
       "    <tr>\n",
       "      <th>6</th>\n",
       "      <td>7</td>\n",
       "      <td>16.0</td>\n",
       "    </tr>\n",
       "  </tbody>\n",
       "</table></div>"
      ],
      "text/plain": [
       "   X     Y\n",
       "0  1   1.5\n",
       "1  2   3.8\n",
       "2  3   6.7\n",
       "3  4   9.0\n",
       "4  5  11.2\n",
       "5  6  13.6\n",
       "6  7  16.0"
      ]
     },
     "execution_count": 5,
     "metadata": {},
     "output_type": "execute_result"
    }
   ],
   "source": [
    "dataFrame"
   ]
  },
  {
   "cell_type": "markdown",
   "id": "d85d806a",
   "metadata": {},
   "source": [
    "# Finding M "
   ]
  },
  {
   "cell_type": "markdown",
   "id": "4acd95da",
   "metadata": {},
   "source": [
    "$$ m = \\frac{(n * \\sum_{i=0}^{n} X_{i} * Y_{i}) - (\\sum_{i=0}^{n} X * \\sum_{i=0}^{n} Y)}{(n*\\sum_{i=0}^{n}X^{2}) - (\\sum_{i=0}^{n}X)^{2}} $$"
   ]
  },
  {
   "cell_type": "code",
   "execution_count": 6,
   "id": "0442530a",
   "metadata": {},
   "outputs": [
    {
     "name": "stderr",
     "output_type": "stream",
     "text": [
      "NumExpr defaulting to 8 threads.\n"
     ]
    }
   ],
   "source": [
    "dataFrame['SumX_Y'] = dataFrame['X'] * dataFrame['Y']"
   ]
  },
  {
   "cell_type": "code",
   "execution_count": 7,
   "id": "6508924b",
   "metadata": {},
   "outputs": [],
   "source": [
    "dataFrame['Sqr_X'] = dataFrame['X'] ** 2"
   ]
  },
  {
   "cell_type": "code",
   "execution_count": 8,
   "id": "8bc4c9c6",
   "metadata": {},
   "outputs": [
    {
     "data": {
      "text/html": [
       "<div><div id=225cd42a-4a37-4491-8e5b-4b6273c569cc style=\"display:none; background-color:#9D6CFF; color:white; width:200px; height:30px; padding-left:5px; border-radius:4px; flex-direction:row; justify-content:space-around; align-items:center;\" onmouseover=\"this.style.backgroundColor='#BA9BF8'\" onmouseout=\"this.style.backgroundColor='#9D6CFF'\" onclick=\"window.commands?.execute('create-mitosheet-from-dataframe-output');\">See Full Dataframe in Mito</div> <script> if (window.commands.hasCommand('create-mitosheet-from-dataframe-output')) document.getElementById('225cd42a-4a37-4491-8e5b-4b6273c569cc').style.display = 'flex' </script> <table border=\"1\" class=\"dataframe\">\n",
       "  <thead>\n",
       "    <tr style=\"text-align: right;\">\n",
       "      <th></th>\n",
       "      <th>X</th>\n",
       "      <th>Y</th>\n",
       "      <th>SumX_Y</th>\n",
       "      <th>Sqr_X</th>\n",
       "    </tr>\n",
       "  </thead>\n",
       "  <tbody>\n",
       "    <tr>\n",
       "      <th>0</th>\n",
       "      <td>1</td>\n",
       "      <td>1.5</td>\n",
       "      <td>1.5</td>\n",
       "      <td>1</td>\n",
       "    </tr>\n",
       "    <tr>\n",
       "      <th>1</th>\n",
       "      <td>2</td>\n",
       "      <td>3.8</td>\n",
       "      <td>7.6</td>\n",
       "      <td>4</td>\n",
       "    </tr>\n",
       "    <tr>\n",
       "      <th>2</th>\n",
       "      <td>3</td>\n",
       "      <td>6.7</td>\n",
       "      <td>20.1</td>\n",
       "      <td>9</td>\n",
       "    </tr>\n",
       "    <tr>\n",
       "      <th>3</th>\n",
       "      <td>4</td>\n",
       "      <td>9.0</td>\n",
       "      <td>36.0</td>\n",
       "      <td>16</td>\n",
       "    </tr>\n",
       "    <tr>\n",
       "      <th>4</th>\n",
       "      <td>5</td>\n",
       "      <td>11.2</td>\n",
       "      <td>56.0</td>\n",
       "      <td>25</td>\n",
       "    </tr>\n",
       "    <tr>\n",
       "      <th>5</th>\n",
       "      <td>6</td>\n",
       "      <td>13.6</td>\n",
       "      <td>81.6</td>\n",
       "      <td>36</td>\n",
       "    </tr>\n",
       "    <tr>\n",
       "      <th>6</th>\n",
       "      <td>7</td>\n",
       "      <td>16.0</td>\n",
       "      <td>112.0</td>\n",
       "      <td>49</td>\n",
       "    </tr>\n",
       "  </tbody>\n",
       "</table></div>"
      ],
      "text/plain": [
       "   X     Y  SumX_Y  Sqr_X\n",
       "0  1   1.5     1.5      1\n",
       "1  2   3.8     7.6      4\n",
       "2  3   6.7    20.1      9\n",
       "3  4   9.0    36.0     16\n",
       "4  5  11.2    56.0     25\n",
       "5  6  13.6    81.6     36\n",
       "6  7  16.0   112.0     49"
      ]
     },
     "execution_count": 8,
     "metadata": {},
     "output_type": "execute_result"
    }
   ],
   "source": [
    "dataFrame"
   ]
  },
  {
   "cell_type": "code",
   "execution_count": 9,
   "id": "3e8cabf0",
   "metadata": {},
   "outputs": [],
   "source": [
    "sum_xy = dataFrame['SumX_Y'].sum()\n",
    "sum_x = dataFrame['X'].sum()\n",
    "sum_y = dataFrame['Y'].sum()\n",
    "sum_x2 = dataFrame['Sqr_X'].sum()\n",
    "sumX_h_2 = sum_x ** 2 \n",
    "n = len(dataFrame)"
   ]
  },
  {
   "cell_type": "code",
   "execution_count": 10,
   "id": "c7f030e9",
   "metadata": {},
   "outputs": [
    {
     "data": {
      "text/plain": [
       "(314.8, 28, 61.800000000000004, 140, 784, 7)"
      ]
     },
     "execution_count": 10,
     "metadata": {},
     "output_type": "execute_result"
    }
   ],
   "source": [
    "sum_xy, sum_x, sum_y, sum_x2, sumX_h_2, n"
   ]
  },
  {
   "cell_type": "code",
   "execution_count": 11,
   "id": "2812bf15",
   "metadata": {},
   "outputs": [
    {
     "data": {
      "text/plain": [
       "473.1999999999998"
      ]
     },
     "execution_count": 11,
     "metadata": {},
     "output_type": "execute_result"
    }
   ],
   "source": [
    "numerator = (n*sum_xy) - (sum_x * sum_y)\n",
    "numerator"
   ]
  },
  {
   "cell_type": "code",
   "execution_count": 12,
   "id": "be815ade",
   "metadata": {},
   "outputs": [],
   "source": [
    "denominator = (n*sum_x2) - sumX_h_2"
   ]
  },
  {
   "cell_type": "code",
   "execution_count": 13,
   "id": "fded7b28",
   "metadata": {},
   "outputs": [
    {
     "data": {
      "text/plain": [
       "196"
      ]
     },
     "execution_count": 13,
     "metadata": {},
     "output_type": "execute_result"
    }
   ],
   "source": [
    "denominator"
   ]
  },
  {
   "cell_type": "code",
   "execution_count": 14,
   "id": "e12fd168",
   "metadata": {},
   "outputs": [],
   "source": [
    "m = numerator / denominator"
   ]
  },
  {
   "cell_type": "code",
   "execution_count": 15,
   "id": "58ca6032",
   "metadata": {},
   "outputs": [
    {
     "data": {
      "text/plain": [
       "2.4142857142857133"
      ]
     },
     "execution_count": 15,
     "metadata": {},
     "output_type": "execute_result"
    }
   ],
   "source": [
    "m"
   ]
  },
  {
   "cell_type": "markdown",
   "id": "6843424a",
   "metadata": {},
   "source": [
    "$$ b = \\frac{\\sum_{i=0}^{n} Y_{i} - m * \\sum_{i=0}^{n} X_{i}}{n} $$"
   ]
  },
  {
   "cell_type": "code",
   "execution_count": 16,
   "id": "63f13cd0",
   "metadata": {},
   "outputs": [
    {
     "data": {
      "text/plain": [
       "(61.800000000000004, 2.4142857142857133, 28, 7)"
      ]
     },
     "execution_count": 16,
     "metadata": {},
     "output_type": "execute_result"
    }
   ],
   "source": [
    "sum_y, m, sum_x, n"
   ]
  },
  {
   "cell_type": "code",
   "execution_count": 17,
   "id": "164e2d54",
   "metadata": {},
   "outputs": [],
   "source": [
    "numerator_b = ((sum_y) - (m * sum_x))\n",
    "denominator_b = n\n",
    "b = numerator_b / denominator_b"
   ]
  },
  {
   "cell_type": "code",
   "execution_count": 18,
   "id": "a6ade262",
   "metadata": {},
   "outputs": [
    {
     "data": {
      "text/plain": [
       "-0.8285714285714231"
      ]
     },
     "execution_count": 18,
     "metadata": {},
     "output_type": "execute_result"
    }
   ],
   "source": [
    "b"
   ]
  },
  {
   "cell_type": "code",
   "execution_count": 19,
   "id": "747120ef",
   "metadata": {},
   "outputs": [
    {
     "data": {
      "text/plain": [
       "(2.4142857142857133, -0.8285714285714231)"
      ]
     },
     "execution_count": 19,
     "metadata": {},
     "output_type": "execute_result"
    }
   ],
   "source": [
    "m, b"
   ]
  },
  {
   "cell_type": "code",
   "execution_count": 20,
   "id": "133378f8",
   "metadata": {},
   "outputs": [
    {
     "data": {
      "text/plain": [
       "0     1.5\n",
       "1     3.8\n",
       "2     6.7\n",
       "3     9.0\n",
       "4    11.2\n",
       "5    13.6\n",
       "6    16.0\n",
       "Name: Y, dtype: float64"
      ]
     },
     "execution_count": 20,
     "metadata": {},
     "output_type": "execute_result"
    }
   ],
   "source": [
    "y_original = dataFrame['Y']\n",
    "y_original"
   ]
  },
  {
   "cell_type": "code",
   "execution_count": 21,
   "id": "6833c777",
   "metadata": {},
   "outputs": [
    {
     "data": {
      "text/html": [
       "<div><div id=ee88b80e-1261-4643-9bce-9758ca0921ed style=\"display:none; background-color:#9D6CFF; color:white; width:200px; height:30px; padding-left:5px; border-radius:4px; flex-direction:row; justify-content:space-around; align-items:center;\" onmouseover=\"this.style.backgroundColor='#BA9BF8'\" onmouseout=\"this.style.backgroundColor='#9D6CFF'\" onclick=\"window.commands?.execute('create-mitosheet-from-dataframe-output');\">See Full Dataframe in Mito</div> <script> if (window.commands.hasCommand('create-mitosheet-from-dataframe-output')) document.getElementById('ee88b80e-1261-4643-9bce-9758ca0921ed').style.display = 'flex' </script> <table border=\"1\" class=\"dataframe\">\n",
       "  <thead>\n",
       "    <tr style=\"text-align: right;\">\n",
       "      <th></th>\n",
       "      <th>X</th>\n",
       "      <th>Y</th>\n",
       "      <th>SumX_Y</th>\n",
       "      <th>Sqr_X</th>\n",
       "      <th>y_pred</th>\n",
       "    </tr>\n",
       "  </thead>\n",
       "  <tbody>\n",
       "    <tr>\n",
       "      <th>0</th>\n",
       "      <td>1</td>\n",
       "      <td>1.5</td>\n",
       "      <td>1.5</td>\n",
       "      <td>1</td>\n",
       "      <td>1.585714</td>\n",
       "    </tr>\n",
       "    <tr>\n",
       "      <th>1</th>\n",
       "      <td>2</td>\n",
       "      <td>3.8</td>\n",
       "      <td>7.6</td>\n",
       "      <td>4</td>\n",
       "      <td>4.000000</td>\n",
       "    </tr>\n",
       "    <tr>\n",
       "      <th>2</th>\n",
       "      <td>3</td>\n",
       "      <td>6.7</td>\n",
       "      <td>20.1</td>\n",
       "      <td>9</td>\n",
       "      <td>6.414286</td>\n",
       "    </tr>\n",
       "    <tr>\n",
       "      <th>3</th>\n",
       "      <td>4</td>\n",
       "      <td>9.0</td>\n",
       "      <td>36.0</td>\n",
       "      <td>16</td>\n",
       "      <td>8.828571</td>\n",
       "    </tr>\n",
       "    <tr>\n",
       "      <th>4</th>\n",
       "      <td>5</td>\n",
       "      <td>11.2</td>\n",
       "      <td>56.0</td>\n",
       "      <td>25</td>\n",
       "      <td>11.242857</td>\n",
       "    </tr>\n",
       "    <tr>\n",
       "      <th>5</th>\n",
       "      <td>6</td>\n",
       "      <td>13.6</td>\n",
       "      <td>81.6</td>\n",
       "      <td>36</td>\n",
       "      <td>13.657143</td>\n",
       "    </tr>\n",
       "    <tr>\n",
       "      <th>6</th>\n",
       "      <td>7</td>\n",
       "      <td>16.0</td>\n",
       "      <td>112.0</td>\n",
       "      <td>49</td>\n",
       "      <td>16.071429</td>\n",
       "    </tr>\n",
       "  </tbody>\n",
       "</table></div>"
      ],
      "text/plain": [
       "   X     Y  SumX_Y  Sqr_X     y_pred\n",
       "0  1   1.5     1.5      1   1.585714\n",
       "1  2   3.8     7.6      4   4.000000\n",
       "2  3   6.7    20.1      9   6.414286\n",
       "3  4   9.0    36.0     16   8.828571\n",
       "4  5  11.2    56.0     25  11.242857\n",
       "5  6  13.6    81.6     36  13.657143\n",
       "6  7  16.0   112.0     49  16.071429"
      ]
     },
     "execution_count": 21,
     "metadata": {},
     "output_type": "execute_result"
    }
   ],
   "source": [
    "\n",
    "dataFrame['y_pred'] = [(m*x_val) + b for x_val in dataFrame['X']]\n",
    "dataFrame"
   ]
  },
  {
   "cell_type": "code",
   "execution_count": 22,
   "id": "09837339",
   "metadata": {},
   "outputs": [
    {
     "ename": "NameError",
     "evalue": "name 'y_pred' is not defined",
     "output_type": "error",
     "traceback": [
      "\u001b[1;31m---------------------------------------------------------------------------\u001b[0m",
      "\u001b[1;31mNameError\u001b[0m                                 Traceback (most recent call last)",
      "\u001b[1;32m<ipython-input-22-3aaf935e6aec>\u001b[0m in \u001b[0;36m<module>\u001b[1;34m\u001b[0m\n\u001b[1;32m----> 1\u001b[1;33m \u001b[0my_pred\u001b[0m\u001b[1;33m\u001b[0m\u001b[1;33m\u001b[0m\u001b[0m\n\u001b[0m",
      "\u001b[1;31mNameError\u001b[0m: name 'y_pred' is not defined"
     ]
    }
   ],
   "source": [
    "y_pred"
   ]
  },
  {
   "cell_type": "markdown",
   "id": "63cca2a4",
   "metadata": {},
   "source": [
    "# Squared Error"
   ]
  },
  {
   "cell_type": "markdown",
   "id": "4ffa3c02",
   "metadata": {},
   "source": [
    "$$ ss = \\sum_{i=0}^{n} (Y_{org} - y_{pred}) ^ {2} $$"
   ]
  },
  {
   "cell_type": "code",
   "execution_count": 23,
   "id": "702f512e",
   "metadata": {},
   "outputs": [
    {
     "data": {
      "text/plain": [
       "0.024081632653061246"
      ]
     },
     "execution_count": 23,
     "metadata": {},
     "output_type": "execute_result"
    }
   ],
   "source": [
    "ss = sum([(yorg - ypred)**2 for yorg, ypred in zip(dataFrame['Y'], dataFrame['y_pred'])]) / n\n",
    "ss"
   ]
  },
  {
   "cell_type": "code",
   "execution_count": null,
   "id": "97c55090",
   "metadata": {},
   "outputs": [],
   "source": []
  },
  {
   "cell_type": "code",
   "execution_count": null,
   "id": "266a10bf",
   "metadata": {},
   "outputs": [],
   "source": []
  },
  {
   "cell_type": "code",
   "execution_count": null,
   "id": "a7b97a34",
   "metadata": {},
   "outputs": [],
   "source": []
  },
  {
   "cell_type": "code",
   "execution_count": null,
   "id": "e7edce0d",
   "metadata": {},
   "outputs": [],
   "source": []
  },
  {
   "cell_type": "code",
   "execution_count": 28,
   "id": "9059948d",
   "metadata": {},
   "outputs": [
    {
     "ename": "NameError",
     "evalue": "name 'y_org' is not defined",
     "output_type": "error",
     "traceback": [
      "\u001b[1;31m---------------------------------------------------------------------------\u001b[0m",
      "\u001b[1;31mNameError\u001b[0m                                 Traceback (most recent call last)",
      "\u001b[1;32m<ipython-input-28-ed261bde1b19>\u001b[0m in \u001b[0;36m<module>\u001b[1;34m\u001b[0m\n\u001b[0;32m     22\u001b[0m \u001b[1;33m\u001b[0m\u001b[0m\n\u001b[0;32m     23\u001b[0m \u001b[0mobj\u001b[0m \u001b[1;33m=\u001b[0m \u001b[0mLinearRegression\u001b[0m\u001b[1;33m(\u001b[0m\u001b[0mdata\u001b[0m\u001b[1;33m)\u001b[0m\u001b[1;33m\u001b[0m\u001b[1;33m\u001b[0m\u001b[0m\n\u001b[1;32m---> 24\u001b[1;33m \u001b[0mmse\u001b[0m \u001b[1;33m=\u001b[0m \u001b[0mobj\u001b[0m\u001b[1;33m.\u001b[0m\u001b[0mmse\u001b[0m\u001b[1;33m(\u001b[0m\u001b[1;33m)\u001b[0m\u001b[1;33m\u001b[0m\u001b[1;33m\u001b[0m\u001b[0m\n\u001b[0m\u001b[0;32m     25\u001b[0m \u001b[0mmae\u001b[0m \u001b[1;33m=\u001b[0m \u001b[0mobj\u001b[0m\u001b[1;33m.\u001b[0m\u001b[0mmae\u001b[0m\u001b[1;33m(\u001b[0m\u001b[1;33m)\u001b[0m\u001b[1;33m\u001b[0m\u001b[1;33m\u001b[0m\u001b[0m\n",
      "\u001b[1;32m<ipython-input-28-ed261bde1b19>\u001b[0m in \u001b[0;36mmse\u001b[1;34m(self)\u001b[0m\n\u001b[0;32m     15\u001b[0m \u001b[1;33m\u001b[0m\u001b[0m\n\u001b[0;32m     16\u001b[0m     \u001b[1;32mdef\u001b[0m \u001b[0mmse\u001b[0m\u001b[1;33m(\u001b[0m\u001b[0mself\u001b[0m\u001b[1;33m)\u001b[0m\u001b[1;33m:\u001b[0m\u001b[1;33m\u001b[0m\u001b[1;33m\u001b[0m\u001b[0m\n\u001b[1;32m---> 17\u001b[1;33m         \u001b[0mmse\u001b[0m \u001b[1;33m=\u001b[0m \u001b[0my_pred\u001b[0m\u001b[1;33m,\u001b[0m \u001b[0my_org\u001b[0m\u001b[1;33m\u001b[0m\u001b[1;33m\u001b[0m\u001b[0m\n\u001b[0m\u001b[0;32m     18\u001b[0m         \u001b[1;32mreturn\u001b[0m \u001b[0mmse\u001b[0m\u001b[1;33m\u001b[0m\u001b[1;33m\u001b[0m\u001b[0m\n\u001b[0;32m     19\u001b[0m \u001b[1;33m\u001b[0m\u001b[0m\n",
      "\u001b[1;31mNameError\u001b[0m: name 'y_org' is not defined"
     ]
    }
   ],
   "source": [
    "class LinearRegression:\n",
    "    \n",
    "    def __init__(self, data):\n",
    "        self.data = data\n",
    "        \n",
    "    def m(self):\n",
    "        return m\n",
    "    \n",
    "    def b(self):\n",
    "        return b\n",
    "    \n",
    "    def fit_train(self):\n",
    "        y_pred =  mx +c\n",
    "        return y_pred\n",
    "    \n",
    "    def mse(self):\n",
    "        mse = y_pred, y_org\n",
    "        return mse\n",
    "    \n",
    "    def mae(self):\n",
    "        return mae\n",
    "    \n",
    "obj = LinearRegression(data)\n",
    "mse = obj.mse()\n",
    "mae = obj.mae()"
   ]
  },
  {
   "cell_type": "code",
   "execution_count": null,
   "id": "f28727f6",
   "metadata": {},
   "outputs": [],
   "source": []
  },
  {
   "cell_type": "code",
   "execution_count": null,
   "id": "818eb563",
   "metadata": {},
   "outputs": [],
   "source": []
  }
 ],
 "metadata": {
  "kernelspec": {
   "display_name": "Python 3",
   "language": "python",
   "name": "python3"
  },
  "language_info": {
   "codemirror_mode": {
    "name": "ipython",
    "version": 3
   },
   "file_extension": ".py",
   "mimetype": "text/x-python",
   "name": "python",
   "nbconvert_exporter": "python",
   "pygments_lexer": "ipython3",
   "version": "3.8.8"
  }
 },
 "nbformat": 4,
 "nbformat_minor": 5
}
