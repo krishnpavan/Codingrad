{
 "cells": [
  {
   "cell_type": "markdown",
   "id": "ba541ad2",
   "metadata": {},
   "source": [
    "# Linear Regression"
   ]
  },
  {
   "cell_type": "markdown",
   "id": "2af778b2",
   "metadata": {},
   "source": [
    "$$ y = m * X + c $$"
   ]
  },
  {
   "cell_type": "markdown",
   "id": "f40382cb",
   "metadata": {},
   "source": [
    "## Linear Regression Purpose\n",
    "\n",
    "* It is one of the earliest and most popular Machine Learning Algorithm\n",
    "* It is a Statistical method used for predictive analysis\n",
    "* It is a Supervised Machine Learning model in which the model finds the best fit linear line between dependant and independant variable"
   ]
  },
  {
   "cell_type": "markdown",
   "id": "21f686b1",
   "metadata": {},
   "source": [
    "<img src = \"https://static.javatpoint.com/tutorial/machine-learning/images/linear-regression-in-machine-learning.png\">"
   ]
  },
  {
   "cell_type": "code",
   "execution_count": 39,
   "id": "c2c4e35d",
   "metadata": {},
   "outputs": [],
   "source": [
    "import pandas as pd\n",
    "import numpy as np"
   ]
  },
  {
   "cell_type": "code",
   "execution_count": 40,
   "id": "305c3b0c",
   "metadata": {},
   "outputs": [],
   "source": [
    "# Taking sample data\n",
    "data = {\"X\" : list(range(1,8)),\n",
    "       \"Y\" : [1.5,3.8,6.7,9.0,11.2,13.6,16.0]}"
   ]
  },
  {
   "cell_type": "code",
   "execution_count": 41,
   "id": "d7cf51bb",
   "metadata": {},
   "outputs": [
    {
     "data": {
      "text/html": [
       "<div><div id=a0a940be-79b6-40e1-aad9-e6f64d25ba2d style=\"display:none; background-color:#9D6CFF; color:white; width:200px; height:30px; padding-left:5px; border-radius:4px; flex-direction:row; justify-content:space-around; align-items:center;\" onmouseover=\"this.style.backgroundColor='#BA9BF8'\" onmouseout=\"this.style.backgroundColor='#9D6CFF'\" onclick=\"window.commands?.execute('create-mitosheet-from-dataframe-output');\">See Full Dataframe in Mito</div> <script> if (window.commands.hasCommand('create-mitosheet-from-dataframe-output')) document.getElementById('a0a940be-79b6-40e1-aad9-e6f64d25ba2d').style.display = 'flex' </script> <table border=\"1\" class=\"dataframe\">\n",
       "  <thead>\n",
       "    <tr style=\"text-align: right;\">\n",
       "      <th></th>\n",
       "      <th>X</th>\n",
       "      <th>Y</th>\n",
       "    </tr>\n",
       "  </thead>\n",
       "  <tbody>\n",
       "    <tr>\n",
       "      <th>0</th>\n",
       "      <td>1</td>\n",
       "      <td>1.5</td>\n",
       "    </tr>\n",
       "    <tr>\n",
       "      <th>1</th>\n",
       "      <td>2</td>\n",
       "      <td>3.8</td>\n",
       "    </tr>\n",
       "    <tr>\n",
       "      <th>2</th>\n",
       "      <td>3</td>\n",
       "      <td>6.7</td>\n",
       "    </tr>\n",
       "    <tr>\n",
       "      <th>3</th>\n",
       "      <td>4</td>\n",
       "      <td>9.0</td>\n",
       "    </tr>\n",
       "    <tr>\n",
       "      <th>4</th>\n",
       "      <td>5</td>\n",
       "      <td>11.2</td>\n",
       "    </tr>\n",
       "    <tr>\n",
       "      <th>5</th>\n",
       "      <td>6</td>\n",
       "      <td>13.6</td>\n",
       "    </tr>\n",
       "    <tr>\n",
       "      <th>6</th>\n",
       "      <td>7</td>\n",
       "      <td>16.0</td>\n",
       "    </tr>\n",
       "  </tbody>\n",
       "</table></div>"
      ],
      "text/plain": [
       "   X     Y\n",
       "0  1   1.5\n",
       "1  2   3.8\n",
       "2  3   6.7\n",
       "3  4   9.0\n",
       "4  5  11.2\n",
       "5  6  13.6\n",
       "6  7  16.0"
      ]
     },
     "execution_count": 41,
     "metadata": {},
     "output_type": "execute_result"
    }
   ],
   "source": [
    "# Converting data to DataFrame\n",
    "df = pd.DataFrame(data=data)\n",
    "df"
   ]
  },
  {
   "cell_type": "code",
   "execution_count": 42,
   "id": "4fca9e96",
   "metadata": {},
   "outputs": [
    {
     "data": {
      "text/plain": [
       "0      1.5\n",
       "1      7.6\n",
       "2     20.1\n",
       "3     36.0\n",
       "4     56.0\n",
       "5     81.6\n",
       "6    112.0\n",
       "Name: SumX_Y, dtype: float64"
      ]
     },
     "execution_count": 42,
     "metadata": {},
     "output_type": "execute_result"
    }
   ],
   "source": [
    "# Finding multiplication of X and Y\n",
    "df['SumX_Y'] = df['X'] * df['Y']\n",
    "df['SumX_Y']"
   ]
  },
  {
   "cell_type": "code",
   "execution_count": 43,
   "id": "1c6e3c6e",
   "metadata": {},
   "outputs": [
    {
     "data": {
      "text/plain": [
       "0     1\n",
       "1     4\n",
       "2     9\n",
       "3    16\n",
       "4    25\n",
       "5    36\n",
       "6    49\n",
       "Name: Sqr_X, dtype: int64"
      ]
     },
     "execution_count": 43,
     "metadata": {},
     "output_type": "execute_result"
    }
   ],
   "source": [
    "# Finding square of X\n",
    "df['Sqr_X'] = df['X'] ** 2\n",
    "df['Sqr_X']"
   ]
  },
  {
   "cell_type": "code",
   "execution_count": 44,
   "id": "d6f7660f",
   "metadata": {},
   "outputs": [
    {
     "data": {
      "text/html": [
       "<div><div id=5304f8c2-8205-489d-860e-6ced728df77c style=\"display:none; background-color:#9D6CFF; color:white; width:200px; height:30px; padding-left:5px; border-radius:4px; flex-direction:row; justify-content:space-around; align-items:center;\" onmouseover=\"this.style.backgroundColor='#BA9BF8'\" onmouseout=\"this.style.backgroundColor='#9D6CFF'\" onclick=\"window.commands?.execute('create-mitosheet-from-dataframe-output');\">See Full Dataframe in Mito</div> <script> if (window.commands.hasCommand('create-mitosheet-from-dataframe-output')) document.getElementById('5304f8c2-8205-489d-860e-6ced728df77c').style.display = 'flex' </script> <table border=\"1\" class=\"dataframe\">\n",
       "  <thead>\n",
       "    <tr style=\"text-align: right;\">\n",
       "      <th></th>\n",
       "      <th>X</th>\n",
       "      <th>Y</th>\n",
       "      <th>SumX_Y</th>\n",
       "      <th>Sqr_X</th>\n",
       "    </tr>\n",
       "  </thead>\n",
       "  <tbody>\n",
       "    <tr>\n",
       "      <th>0</th>\n",
       "      <td>1</td>\n",
       "      <td>1.5</td>\n",
       "      <td>1.5</td>\n",
       "      <td>1</td>\n",
       "    </tr>\n",
       "    <tr>\n",
       "      <th>1</th>\n",
       "      <td>2</td>\n",
       "      <td>3.8</td>\n",
       "      <td>7.6</td>\n",
       "      <td>4</td>\n",
       "    </tr>\n",
       "    <tr>\n",
       "      <th>2</th>\n",
       "      <td>3</td>\n",
       "      <td>6.7</td>\n",
       "      <td>20.1</td>\n",
       "      <td>9</td>\n",
       "    </tr>\n",
       "    <tr>\n",
       "      <th>3</th>\n",
       "      <td>4</td>\n",
       "      <td>9.0</td>\n",
       "      <td>36.0</td>\n",
       "      <td>16</td>\n",
       "    </tr>\n",
       "    <tr>\n",
       "      <th>4</th>\n",
       "      <td>5</td>\n",
       "      <td>11.2</td>\n",
       "      <td>56.0</td>\n",
       "      <td>25</td>\n",
       "    </tr>\n",
       "    <tr>\n",
       "      <th>5</th>\n",
       "      <td>6</td>\n",
       "      <td>13.6</td>\n",
       "      <td>81.6</td>\n",
       "      <td>36</td>\n",
       "    </tr>\n",
       "    <tr>\n",
       "      <th>6</th>\n",
       "      <td>7</td>\n",
       "      <td>16.0</td>\n",
       "      <td>112.0</td>\n",
       "      <td>49</td>\n",
       "    </tr>\n",
       "  </tbody>\n",
       "</table></div>"
      ],
      "text/plain": [
       "   X     Y  SumX_Y  Sqr_X\n",
       "0  1   1.5     1.5      1\n",
       "1  2   3.8     7.6      4\n",
       "2  3   6.7    20.1      9\n",
       "3  4   9.0    36.0     16\n",
       "4  5  11.2    56.0     25\n",
       "5  6  13.6    81.6     36\n",
       "6  7  16.0   112.0     49"
      ]
     },
     "execution_count": 44,
     "metadata": {},
     "output_type": "execute_result"
    }
   ],
   "source": [
    "df"
   ]
  },
  {
   "cell_type": "markdown",
   "id": "2dc185f6",
   "metadata": {},
   "source": [
    "# Finding Least Square Regression (M)\n",
    "\n",
    "* Slope of the line\n",
    "* It is a method which minimizes the error in such a way that the sum of all square error is minimized"
   ]
  },
  {
   "cell_type": "markdown",
   "id": "1a51fec8",
   "metadata": {},
   "source": [
    "$$ m = \\frac{(n * \\sum_{i=0}^{n} X_{i} * Y_{i}) - (\\sum_{i=0}^{n} X * \\sum_{i=0}^{n} Y)}{(n*\\sum_{i=0}^{n}X^{2}) - (\\sum_{i=0}^{n}X)^{2}} $$"
   ]
  },
  {
   "cell_type": "markdown",
   "id": "c2fcba01",
   "metadata": {},
   "source": [
    "# Finding B"
   ]
  },
  {
   "cell_type": "markdown",
   "id": "d8d8eff5",
   "metadata": {},
   "source": [
    "$$ b = \\frac{\\sum_{i=0}^{n} Y_{i} - m * \\sum_{i=0}^{n} X_{i}}{n} $$"
   ]
  },
  {
   "cell_type": "markdown",
   "id": "d30811b8",
   "metadata": {},
   "source": [
    "# Squared Error"
   ]
  },
  {
   "cell_type": "markdown",
   "id": "17e03be0",
   "metadata": {},
   "source": [
    "$$ ss = \\sum_{i=0}^{n} (Y_{org} - y_{pred}) ^ {2} $$"
   ]
  },
  {
   "cell_type": "markdown",
   "id": "a3ac4138",
   "metadata": {},
   "source": [
    "# Mean Squared Error (MSE)\n",
    "\n",
    "* MSE is defined as Mean or Average of the square of the difference between actual and estimated values"
   ]
  },
  {
   "cell_type": "markdown",
   "id": "f08f4e2c",
   "metadata": {},
   "source": [
    "$$ mse = \\frac{\\sum_{i=0}^{n} (Y_{org} - y_{pred}) ^ {2}}{n} $$"
   ]
  },
  {
   "cell_type": "markdown",
   "id": "f0fc61aa",
   "metadata": {},
   "source": [
    "# Mean Absolute Error (MAE)\n",
    "\n",
    "* MAE is the sum of absolute difference between actual and predicted values."
   ]
  },
  {
   "cell_type": "markdown",
   "id": "9c93073f",
   "metadata": {},
   "source": [
    "$$ mae = \\frac{\\sum_{i=0}^{n} (Y_{org} - y_{pred})}{n} $$"
   ]
  },
  {
   "cell_type": "code",
   "execution_count": 127,
   "id": "0b6101eb",
   "metadata": {},
   "outputs": [
    {
     "data": {
      "text/html": [
       "<div><div id=c0199b67-9629-48d0-9bbd-3e90ab3d293d style=\"display:none; background-color:#9D6CFF; color:white; width:200px; height:30px; padding-left:5px; border-radius:4px; flex-direction:row; justify-content:space-around; align-items:center;\" onmouseover=\"this.style.backgroundColor='#BA9BF8'\" onmouseout=\"this.style.backgroundColor='#9D6CFF'\" onclick=\"window.commands?.execute('create-mitosheet-from-dataframe-output');\">See Full Dataframe in Mito</div> <script> if (window.commands.hasCommand('create-mitosheet-from-dataframe-output')) document.getElementById('c0199b67-9629-48d0-9bbd-3e90ab3d293d').style.display = 'flex' </script> <table border=\"1\" class=\"dataframe\">\n",
       "  <thead>\n",
       "    <tr style=\"text-align: right;\">\n",
       "      <th></th>\n",
       "      <th>X</th>\n",
       "      <th>Y</th>\n",
       "      <th>SumX_Y</th>\n",
       "      <th>Sqr_X</th>\n",
       "      <th>y_pred</th>\n",
       "    </tr>\n",
       "  </thead>\n",
       "  <tbody>\n",
       "    <tr>\n",
       "      <th>0</th>\n",
       "      <td>1</td>\n",
       "      <td>1.5</td>\n",
       "      <td>1.5</td>\n",
       "      <td>1</td>\n",
       "      <td>1.585714</td>\n",
       "    </tr>\n",
       "    <tr>\n",
       "      <th>1</th>\n",
       "      <td>2</td>\n",
       "      <td>3.8</td>\n",
       "      <td>7.6</td>\n",
       "      <td>4</td>\n",
       "      <td>4.000000</td>\n",
       "    </tr>\n",
       "    <tr>\n",
       "      <th>2</th>\n",
       "      <td>3</td>\n",
       "      <td>6.7</td>\n",
       "      <td>20.1</td>\n",
       "      <td>9</td>\n",
       "      <td>6.414286</td>\n",
       "    </tr>\n",
       "    <tr>\n",
       "      <th>3</th>\n",
       "      <td>4</td>\n",
       "      <td>9.0</td>\n",
       "      <td>36.0</td>\n",
       "      <td>16</td>\n",
       "      <td>8.828571</td>\n",
       "    </tr>\n",
       "    <tr>\n",
       "      <th>4</th>\n",
       "      <td>5</td>\n",
       "      <td>11.2</td>\n",
       "      <td>56.0</td>\n",
       "      <td>25</td>\n",
       "      <td>11.242857</td>\n",
       "    </tr>\n",
       "    <tr>\n",
       "      <th>5</th>\n",
       "      <td>6</td>\n",
       "      <td>13.6</td>\n",
       "      <td>81.6</td>\n",
       "      <td>36</td>\n",
       "      <td>13.657143</td>\n",
       "    </tr>\n",
       "    <tr>\n",
       "      <th>6</th>\n",
       "      <td>7</td>\n",
       "      <td>16.0</td>\n",
       "      <td>112.0</td>\n",
       "      <td>49</td>\n",
       "      <td>16.071429</td>\n",
       "    </tr>\n",
       "  </tbody>\n",
       "</table></div>"
      ],
      "text/plain": [
       "   X     Y  SumX_Y  Sqr_X     y_pred\n",
       "0  1   1.5     1.5      1   1.585714\n",
       "1  2   3.8     7.6      4   4.000000\n",
       "2  3   6.7    20.1      9   6.414286\n",
       "3  4   9.0    36.0     16   8.828571\n",
       "4  5  11.2    56.0     25  11.242857\n",
       "5  6  13.6    81.6     36  13.657143\n",
       "6  7  16.0   112.0     49  16.071429"
      ]
     },
     "execution_count": 127,
     "metadata": {},
     "output_type": "execute_result"
    }
   ],
   "source": [
    "df['y_pred'] = [(m*x_val) + b for x_val in df['X']]\n",
    "df"
   ]
  },
  {
   "cell_type": "code",
   "execution_count": 64,
   "id": "b909aed4",
   "metadata": {},
   "outputs": [
    {
     "data": {
      "text/plain": [
       "0     1.5\n",
       "1     3.8\n",
       "2     6.7\n",
       "3     9.0\n",
       "4    11.2\n",
       "5    13.6\n",
       "6    16.0\n",
       "Name: Y, dtype: float64"
      ]
     },
     "execution_count": 64,
     "metadata": {},
     "output_type": "execute_result"
    }
   ],
   "source": [
    "y_org = df['Y']\n",
    "y_org"
   ]
  },
  {
   "cell_type": "code",
   "execution_count": 102,
   "id": "731f6ef9",
   "metadata": {},
   "outputs": [
    {
     "data": {
      "text/html": [
       "<div><div id=29773c0e-f3fb-49c3-afd7-a7f8761b070c style=\"display:none; background-color:#9D6CFF; color:white; width:200px; height:30px; padding-left:5px; border-radius:4px; flex-direction:row; justify-content:space-around; align-items:center;\" onmouseover=\"this.style.backgroundColor='#BA9BF8'\" onmouseout=\"this.style.backgroundColor='#9D6CFF'\" onclick=\"window.commands?.execute('create-mitosheet-from-dataframe-output');\">See Full Dataframe in Mito</div> <script> if (window.commands.hasCommand('create-mitosheet-from-dataframe-output')) document.getElementById('29773c0e-f3fb-49c3-afd7-a7f8761b070c').style.display = 'flex' </script> <table border=\"1\" class=\"dataframe\">\n",
       "  <thead>\n",
       "    <tr style=\"text-align: right;\">\n",
       "      <th></th>\n",
       "      <th>X</th>\n",
       "      <th>Y</th>\n",
       "      <th>SumX_Y</th>\n",
       "      <th>Sqr_X</th>\n",
       "      <th>y_pred</th>\n",
       "    </tr>\n",
       "  </thead>\n",
       "  <tbody>\n",
       "    <tr>\n",
       "      <th>0</th>\n",
       "      <td>1</td>\n",
       "      <td>1.5</td>\n",
       "      <td>1.5</td>\n",
       "      <td>1</td>\n",
       "      <td>1.585714</td>\n",
       "    </tr>\n",
       "    <tr>\n",
       "      <th>1</th>\n",
       "      <td>2</td>\n",
       "      <td>3.8</td>\n",
       "      <td>7.6</td>\n",
       "      <td>4</td>\n",
       "      <td>4.000000</td>\n",
       "    </tr>\n",
       "    <tr>\n",
       "      <th>2</th>\n",
       "      <td>3</td>\n",
       "      <td>6.7</td>\n",
       "      <td>20.1</td>\n",
       "      <td>9</td>\n",
       "      <td>6.414286</td>\n",
       "    </tr>\n",
       "    <tr>\n",
       "      <th>3</th>\n",
       "      <td>4</td>\n",
       "      <td>9.0</td>\n",
       "      <td>36.0</td>\n",
       "      <td>16</td>\n",
       "      <td>8.828571</td>\n",
       "    </tr>\n",
       "    <tr>\n",
       "      <th>4</th>\n",
       "      <td>5</td>\n",
       "      <td>11.2</td>\n",
       "      <td>56.0</td>\n",
       "      <td>25</td>\n",
       "      <td>11.242857</td>\n",
       "    </tr>\n",
       "    <tr>\n",
       "      <th>5</th>\n",
       "      <td>6</td>\n",
       "      <td>13.6</td>\n",
       "      <td>81.6</td>\n",
       "      <td>36</td>\n",
       "      <td>13.657143</td>\n",
       "    </tr>\n",
       "    <tr>\n",
       "      <th>6</th>\n",
       "      <td>7</td>\n",
       "      <td>16.0</td>\n",
       "      <td>112.0</td>\n",
       "      <td>49</td>\n",
       "      <td>16.071429</td>\n",
       "    </tr>\n",
       "  </tbody>\n",
       "</table></div>"
      ],
      "text/plain": [
       "   X     Y  SumX_Y  Sqr_X     y_pred\n",
       "0  1   1.5     1.5      1   1.585714\n",
       "1  2   3.8     7.6      4   4.000000\n",
       "2  3   6.7    20.1      9   6.414286\n",
       "3  4   9.0    36.0     16   8.828571\n",
       "4  5  11.2    56.0     25  11.242857\n",
       "5  6  13.6    81.6     36  13.657143\n",
       "6  7  16.0   112.0     49  16.071429"
      ]
     },
     "execution_count": 102,
     "metadata": {},
     "output_type": "execute_result"
    }
   ],
   "source": [
    "df"
   ]
  },
  {
   "cell_type": "code",
   "execution_count": 165,
   "id": "740cea6b",
   "metadata": {},
   "outputs": [],
   "source": [
    "# Calculating mean square error (mse) and mean absolute error (mae)\n",
    "\n",
    "class LinearRegression:\n",
    "    \n",
    "    def __init__(self, df):\n",
    "        self.sum_xy = df['SumX_Y'].sum()\n",
    "        self.sum_x = df['X'].sum()\n",
    "        self.sum_y = df['Y'].sum()\n",
    "        self.sqr_x = df['Sqr_X'].sum()\n",
    "        self.sumX_h_2 = sum_x ** 2 \n",
    "        self.n = len(df)\n",
    "        \n",
    "    def m(self, sum_xy, sum_x, sum_y, sqr_x, sumX_h_2, n):   # To find m value\n",
    "        self.numerator = n*((sum_xy)) - (sum_x) * (sum_y)\n",
    "        self.denominator = n*((sqr_x)) - (sumX_h_2)\n",
    "        self.m = self.numerator / self.denominator\n",
    "        \n",
    "        return self.m\n",
    "    \n",
    "    def b(self, n, sum_x, sum_y):                                            # TO find b value\n",
    "        self.numerator_b = ((sum_y) - (m * sum_x))\n",
    "        self.denominator_b = n\n",
    "        self.b = self.numerator_b / self.denominator_b\n",
    "        return self.b\n",
    "    \n",
    "    def fit_train(self, m, b , df):                           ## To find ypred (y= mx + b)\n",
    "        self.y_pred = [(m*x_val) + b for x_val in df['X']]\n",
    "        return self.y_pred\n",
    "    \n",
    "    def mse(self, df, y_pred):                        # To find mse\n",
    "        mse = sum([(y_org - y_pred)**2 for y_org, y_pred in zip(df['Y'],y_pred)]) / n\n",
    "        return mse\n",
    "    \n",
    "    def mae(self, df, y_pred):\n",
    "        mae = sum([(abs(y_org - y_pred)) for y_org, y_pred in zip(df['Y'], y_pred)]) / n\n",
    "        return mae"
   ]
  },
  {
   "cell_type": "code",
   "execution_count": 166,
   "id": "1860f113",
   "metadata": {},
   "outputs": [
    {
     "name": "stdout",
     "output_type": "stream",
     "text": [
      "m value is:  2.4142857142857133\n"
     ]
    }
   ],
   "source": [
    "# object declaration for m(slope)\n",
    "m_obj = LinearRegression(df)\n",
    "\n",
    "# object.methodname\n",
    "m_obj.m(sum_xy, sum_x, sum_y, sqr_x, sumX_h_2, n)\n",
    "\n",
    "# printing the m value\n",
    "print(\"m value is: \", m)"
   ]
  },
  {
   "cell_type": "code",
   "execution_count": 167,
   "id": "46115639",
   "metadata": {},
   "outputs": [
    {
     "name": "stdout",
     "output_type": "stream",
     "text": [
      "b value is:  -0.8285714285714231\n"
     ]
    }
   ],
   "source": [
    "# object declaration for b(constant)\n",
    "b_obj = LinearRegression(df)\n",
    "\n",
    "# object.methodname\n",
    "b_obj.b(n, sum_x, sum_y)\n",
    "\n",
    "# printing the b value\n",
    "print(\"b value is: \", b)"
   ]
  },
  {
   "cell_type": "code",
   "execution_count": 168,
   "id": "1be59704",
   "metadata": {},
   "outputs": [
    {
     "name": "stdout",
     "output_type": "stream",
     "text": [
      "y-predicted values are:  0     1.585714\n",
      "1     4.000000\n",
      "2     6.414286\n",
      "3     8.828571\n",
      "4    11.242857\n",
      "5    13.657143\n",
      "6    16.071429\n",
      "Name: y_pred, dtype: float64\n"
     ]
    }
   ],
   "source": [
    "# object declaration for y-predictions(y = m * x + b)\n",
    "ypred_obj = LinearRegression(df)\n",
    "\n",
    "# object.methodname\n",
    "ypred_obj.fit_train(m, b , df)\n",
    "\n",
    "# printing the b value\n",
    "print(\"y-predicted values are: \", y_pred)"
   ]
  },
  {
   "cell_type": "code",
   "execution_count": 177,
   "id": "54d6feb6",
   "metadata": {},
   "outputs": [
    {
     "name": "stdout",
     "output_type": "stream",
     "text": [
      "Mean Square Error value is:  0.024081632653061246\n"
     ]
    }
   ],
   "source": [
    "# object declaration for Mean Square Error (mse). If mse is nearer to 0 its good or nearer to 1 its bad\n",
    "mse_obj = LinearRegression(df)\n",
    "\n",
    "# object.methodname\n",
    "mse_obj.mse(df, y_pred)\n",
    "\n",
    "# printing the b value\n",
    "print(\"Mean Square Error value is: \", mse)"
   ]
  },
  {
   "cell_type": "code",
   "execution_count": 178,
   "id": "ac23e18a",
   "metadata": {},
   "outputs": [
    {
     "name": "stdout",
     "output_type": "stream",
     "text": [
      "Mean Absolute Error value is:  -1.3322676295501878e-15\n"
     ]
    }
   ],
   "source": [
    "# object declaration for Mean Absolute Error (mae)\n",
    "mae_obj = LinearRegression(df)\n",
    "\n",
    "# object.methodname\n",
    "mae_obj.mae(df, y_pred)\n",
    "\n",
    "# printing the b value\n",
    "print(\"Mean Absolute Error value is: \", mae)"
   ]
  },
  {
   "cell_type": "code",
   "execution_count": 188,
   "id": "42b78b10",
   "metadata": {},
   "outputs": [
    {
     "data": {
      "text/plain": [
       "0.16857142857142873"
      ]
     },
     "execution_count": 188,
     "metadata": {},
     "output_type": "execute_result"
    }
   ],
   "source": [
    "# Finding Sum of Square of Residuals (Rss)\n",
    "Rss = sum([(y_org - y_pred)**2 for y_org, y_pred in zip(df['Y'], df['y_pred'])])\n",
    "rss"
   ]
  },
  {
   "cell_type": "code",
   "execution_count": 189,
   "id": "b9083c97",
   "metadata": {},
   "outputs": [
    {
     "data": {
      "text/plain": [
       "163.37428571428572"
      ]
     },
     "execution_count": 189,
     "metadata": {},
     "output_type": "execute_result"
    }
   ],
   "source": [
    "# Total sum of squares calculating with mean (Tss)\n",
    "Tss = sum((y_org - y_mean)**2)\n",
    "\n",
    "tss"
   ]
  },
  {
   "cell_type": "code",
   "execution_count": 190,
   "id": "6d8c4150",
   "metadata": {},
   "outputs": [
    {
     "data": {
      "text/plain": [
       "0.99896818873402"
      ]
     },
     "execution_count": 190,
     "metadata": {},
     "output_type": "execute_result"
    }
   ],
   "source": [
    "# Calculating R2 score. if R2 score = 1 or nearer to 1 its good and if its nearer to 0 or equalto zero its bad\n",
    "r_squared = 1 - (Rss/Tss)\n",
    "r_squared"
   ]
  },
  {
   "cell_type": "code",
   "execution_count": 191,
   "id": "fb0cab30",
   "metadata": {},
   "outputs": [
    {
     "data": {
      "image/png": "[encoded data removed]",
      "text/plain": [
       "<Figure size 432x288 with 1 Axes>"
      ]
     },
     "metadata": {
      "needs_background": "light"
     },
     "output_type": "display_data"
    }
   ],
   "source": [
    "# graph using matplotlib\n",
    "import matplotlib.pyplot as plt\n",
    "\n",
    "x_val = df['X']\n",
    "y_val = df['Y']\n",
    "ypred = y_pred\n",
    "\n",
    "plt.plot(x_val, y_val, color = 'r')\n",
    "\n",
    "# for original values\n",
    "plt.scatter(x_val,y_org, label = 'blue = original values')\n",
    "\n",
    "# for predicted values\n",
    "plt.scatter(x_val,ypred, label = 'orange = predicted values')\n",
    "\n",
    "# for tittle of the graph\n",
    "plt.title(\"Linear Regression\")\n",
    "\n",
    "# for showing legend in graph\n",
    "plt.legend()\n",
    "\n",
    "# For showing the plot\n",
    "plt.show()\n"
   ]
  },
  {
   "cell_type": "code",
   "execution_count": null,
   "id": "4034610f",
   "metadata": {},
   "outputs": [],
   "source": []
  },
  {
   "cell_type": "code",
   "execution_count": null,
   "id": "40e18320",
   "metadata": {},
   "outputs": [],
   "source": []
  }
 ],
 "metadata": {
  "kernelspec": {
   "display_name": "Python 3",
   "language": "python",
   "name": "python3"
  },
  "language_info": {
   "codemirror_mode": {
    "name": "ipython",
    "version": 3
   },
   "file_extension": ".py",
   "mimetype": "text/x-python",
   "name": "python",
   "nbconvert_exporter": "python",
   "pygments_lexer": "ipython3",
   "version": "3.8.8"
  }
 },
 "nbformat": 4,
 "nbformat_minor": 5
}
