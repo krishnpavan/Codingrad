{
 "cells": [
  {
   "cell_type": "markdown",
   "id": "275670e3",
   "metadata": {},
   "source": [
    "# Task 36 Numpy Functions Practice"
   ]
  },
  {
   "cell_type": "markdown",
   "id": "2c33be77",
   "metadata": {},
   "source": [
    "\n",
    "<img src=\"https://upload.wikimedia.org/wikipedia/commons/thumb/3/31/NumPy_logo_2020.svg/1200px-NumPy_logo_2020.svg.png\">"
   ]
  },
  {
   "cell_type": "markdown",
   "id": "c2778260",
   "metadata": {},
   "source": [
    "'''Numpy is a Python library. It stands for 'Numerical Python'\n",
    "It is a library consisting of multidimensional array objects.\n",
    "It is used in data preprocessing or mathematical operations\n",
    "'''\n",
    "\n",
    "# Numpy vs List\n",
    "'''\n",
    "Python List:\n",
    "\n",
    "1. Able to store different data types in the same list\n",
    "2. Storing each item in random location in the memory\n",
    "3. Good for scenario where list can grow dynamically\n",
    "4. Inbuilt datatype\n",
    "5. It has more inbuilt functions. Like append\n",
    "6. Appending will take less time in 0(1) [Bigger Notation] time. Only appending list is speed and rest all functions its slow than array\n",
    "\n",
    "Numpy Array\n",
    "\n",
    "1. Can store only one data type in an array at any time\n",
    "2. Storing each item in sequnetial which makes array more effective in processing\n",
    "3. Good for scenario where the items are fixed size and same data time\n",
    "4. Need to install external library Numpy\n",
    "5. No extra functions, so it will not have more memory store\n",
    "6. Appending elements will take more than 0(N) time. Array is speed than list except in appending function\n",
    "'''\n"
   ]
  },
  {
   "cell_type": "markdown",
   "id": "47e89187",
   "metadata": {},
   "source": [
    "'''\n",
    "1D Array - axis 0. Will take rows as columsn. shape(4,) 4 is considered as columns\n",
    "2D Array - axis 1. Two rows and three columns. shape(2,3) 2 is row and 3 is column\n",
    "3D Array - axis 0, axis 1, axis 3. shape(4,2,3) 4 is layers 2 is rows 3 is columns\n",
    "'''\n",
    "\n",
    "<img src=\"https://i.stack.imgur.com/NWTQH.png\">"
   ]
  },
  {
   "cell_type": "code",
   "execution_count": 314,
   "id": "201cf0cd",
   "metadata": {},
   "outputs": [
    {
     "name": "stdout",
     "output_type": "stream",
     "text": [
      "Requirement already satisfied: numpy in d:\\anacondainstallation\\lib\\site-packages (1.20.1)\n"
     ]
    }
   ],
   "source": [
    "!pip install numpy\n",
    "\n",
    "# import numpy module as alias np\n",
    "import numpy as np"
   ]
  },
  {
   "cell_type": "code",
   "execution_count": 315,
   "id": "74582b17",
   "metadata": {},
   "outputs": [],
   "source": [
    "# define a numpy array passing a list with 1,2 and 3 as elements in it\n",
    "a = np.array([1,2,3])"
   ]
  },
  {
   "cell_type": "code",
   "execution_count": 316,
   "id": "12f7b981",
   "metadata": {},
   "outputs": [
    {
     "data": {
      "text/plain": [
       "array([1, 2, 3])"
      ]
     },
     "execution_count": 316,
     "metadata": {},
     "output_type": "execute_result"
    }
   ],
   "source": [
    "# print a\n",
    "a"
   ]
  },
  {
   "cell_type": "markdown",
   "id": "65184f71",
   "metadata": {},
   "source": [
    "# Dimensions in Arrays\n",
    "\n",
    "* Numpy array can be of n dimensions\n",
    "* Lets create arrays of different dimensions\n",
    "* a = A numpy aaray with one single 10\n",
    "* b= A numpy array passing a list having a list = [1,2,3]\n",
    "* c = A numpy array passing nested list having [1,2,3],[4,5,6] as e;ements\n",
    "* d = A numpy array passing nested list having ([[1,2,3],[4,5,6]].[[1,2,3],[4,5,6]]])"
   ]
  },
  {
   "cell_type": "code",
   "execution_count": 317,
   "id": "70be7c42",
   "metadata": {},
   "outputs": [],
   "source": [
    "# define a,b,c and d as instructed above\n",
    "a = np.array(10)\n",
    "b = np.array([1,2,3])\n",
    "c = np.array([[1,2,3],[4,5,6]])\n",
    "d = np.array([[[1,2,3],[4,5,6]],[[1,2,3],[4,5,6]]])"
   ]
  },
  {
   "cell_type": "markdown",
   "id": "6e8e09d8",
   "metadata": {},
   "source": [
    "As you already checked its dimensions?Use ndim attribute on each variable to check its dimension"
   ]
  },
  {
   "cell_type": "code",
   "execution_count": 318,
   "id": "f2c3b97e",
   "metadata": {},
   "outputs": [
    {
     "name": "stdout",
     "output_type": "stream",
     "text": [
      "a dimension 0\n",
      "b dimension 1\n",
      "c dimension 2\n",
      "d dimension 3\n"
     ]
    }
   ],
   "source": [
    "# print dimensions of a,b,c and d\n",
    "# Also we can remember if array has one list its one dimension, two lists its two dimenion, three lissts its theee dimension\n",
    "print('a dimension', a.ndim)\n",
    "print('b dimension', b.ndim)\n",
    "print('c dimension', c.ndim)\n",
    "print('d dimension', d.ndim)"
   ]
  },
  {
   "cell_type": "markdown",
   "id": "b1b781d4",
   "metadata": {},
   "source": [
    "Lets print the shape as well. You can check the shape using shape attribute"
   ]
  },
  {
   "cell_type": "code",
   "execution_count": 319,
   "id": "2c2c837f",
   "metadata": {},
   "outputs": [
    {
     "name": "stdout",
     "output_type": "stream",
     "text": [
      "10\n",
      "shape of a:  ()\n",
      "[1 2 3]\n",
      "shape of b:  (3,)\n",
      "[[1 2 3]\n",
      " [4 5 6]]\n",
      "shape of c:  (2, 3)\n",
      "[[[1 2 3]\n",
      "  [4 5 6]]\n",
      "\n",
      " [[1 2 3]\n",
      "  [4 5 6]]]\n",
      "shape of d:  (2, 2, 3)\n"
     ]
    }
   ],
   "source": [
    "# print shape of each a,b,c and d which are array variables\n",
    "# if shape is (2,4,3) then 2 is layers, 4 is rows and 3 is columns. can see a gap between two layers\n",
    "# a is zero dimension, b is one dimension and here row is consideredas column, c is two dimension and d is three dimension\n",
    "print(a)\n",
    "print('shape of a: ', a.shape)\n",
    "print(b)\n",
    "print('shape of b: ', b.shape)\n",
    "print(c)\n",
    "print('shape of c: ', c.shape)\n",
    "print(d)\n",
    "print('shape of d: ', d.shape)"
   ]
  },
  {
   "cell_type": "markdown",
   "id": "690fbdb7",
   "metadata": {},
   "source": [
    "Lets check datatype passed in our array. To check datatype you can use datarype attribute"
   ]
  },
  {
   "cell_type": "code",
   "execution_count": 320,
   "id": "ec13adcc",
   "metadata": {},
   "outputs": [
    {
     "name": "stdout",
     "output_type": "stream",
     "text": [
      "int32\n",
      "int32\n"
     ]
    }
   ],
   "source": [
    "# print datatype of c and d\n",
    "# int32, int64 are bittype and want to know in depth then learn range table \n",
    "print(c.dtype)\n",
    "print(d.dtype)"
   ]
  },
  {
   "cell_type": "markdown",
   "id": "6259b794",
   "metadata": {},
   "source": [
    "Lets check the type of our variable. To check type of any numpy variable use type() function"
   ]
  },
  {
   "cell_type": "code",
   "execution_count": 321,
   "id": "777da303",
   "metadata": {},
   "outputs": [
    {
     "name": "stdout",
     "output_type": "stream",
     "text": [
      "<class 'numpy.ndarray'>\n",
      "<class 'numpy.ndarray'>\n"
     ]
    }
   ],
   "source": [
    "# print type of a and b variable\n",
    "print(type(a))\n",
    "print(type(b))"
   ]
  },
  {
   "cell_type": "code",
   "execution_count": 322,
   "id": "ea52ffd7",
   "metadata": {},
   "outputs": [
    {
     "name": "stdout",
     "output_type": "stream",
     "text": [
      "[1 2 3]\n"
     ]
    },
    {
     "data": {
      "text/plain": [
       "3"
      ]
     },
     "execution_count": 322,
     "metadata": {},
     "output_type": "execute_result"
    }
   ],
   "source": [
    "# Lets check length of array b, using len() function\n",
    "print(b)\n",
    "len(b)"
   ]
  },
  {
   "cell_type": "code",
   "execution_count": 323,
   "id": "640811c8",
   "metadata": {},
   "outputs": [
    {
     "name": "stdout",
     "output_type": "stream",
     "text": [
      "<class 'numpy.ndarray'>\n",
      "[10 20 30]\n"
     ]
    }
   ],
   "source": [
    "# Define L1,L2,L3 and L4 as stated above. See how list is converted to numpy array.\n",
    "l1 = [10,20,30]\n",
    "l2 = [40,50,60]\n",
    "l3 = np.array(l1)\n",
    "l4 = np.array(l2)\n",
    "print(type(l3))\n",
    "print(l3)"
   ]
  },
  {
   "cell_type": "markdown",
   "id": "5b574dea",
   "metadata": {},
   "source": [
    "# Crerating Numpy array\n",
    "\n",
    "There are number of ways to create numpy array. Lets walk through them.\n",
    "1. Using arange() function\n",
    "\n",
    "* In range function we have range(start,stop,jump), where as in arange is arrayrange."
   ]
  },
  {
   "cell_type": "code",
   "execution_count": 324,
   "id": "b587e563",
   "metadata": {},
   "outputs": [
    {
     "data": {
      "text/plain": [
       "array([ 1,  2,  3,  4,  5,  6,  7,  8,  9, 10])"
      ]
     },
     "execution_count": 324,
     "metadata": {},
     "output_type": "execute_result"
    }
   ],
   "source": [
    "# create a numpy array using arange with 1 and 11 as parameter in it\n",
    "np.arange(1,11)"
   ]
  },
  {
   "cell_type": "code",
   "execution_count": 325,
   "id": "0a8263cc",
   "metadata": {},
   "outputs": [
    {
     "data": {
      "text/plain": [
       "array([1, 3, 5, 7, 9])"
      ]
     },
     "execution_count": 325,
     "metadata": {},
     "output_type": "execute_result"
    }
   ],
   "source": [
    "# create a numpy array using arange with 1,11 and 2 as parameter in it. jump 2 means its will jump as 1 element only\n",
    "np.arange(1,11,2)"
   ]
  },
  {
   "cell_type": "markdown",
   "id": "7cffde6c",
   "metadata": {},
   "source": [
    "# Using eye function"
   ]
  },
  {
   "cell_type": "code",
   "execution_count": 326,
   "id": "77f346e3",
   "metadata": {},
   "outputs": [
    {
     "data": {
      "text/plain": [
       "array([[1., 0., 0.],\n",
       "       [0., 1., 0.],\n",
       "       [0., 0., 1.]])"
      ]
     },
     "execution_count": 326,
     "metadata": {},
     "output_type": "execute_result"
    }
   ],
   "source": [
    "# create numpy array using eye function with 3 as passed parameter. 3 means 3 rows and 3 columns with 1 as diagonals\n",
    "np.eye(3,dtype=float)"
   ]
  },
  {
   "cell_type": "markdown",
   "id": "7e9647b4",
   "metadata": {},
   "source": [
    "Whoo! eye return a 2-D array with ones as diagonals and zeros elsewhere"
   ]
  },
  {
   "cell_type": "markdown",
   "id": "a37ad1f5",
   "metadata": {},
   "source": [
    "## Using zeros function"
   ]
  },
  {
   "cell_type": "code",
   "execution_count": 327,
   "id": "a468444d",
   "metadata": {},
   "outputs": [
    {
     "name": "stdout",
     "output_type": "stream",
     "text": [
      "Dimension of s is:  2\n",
      "Datatype of s is:  int32\n",
      "Type of s is:  <class 'numpy.ndarray'>\n",
      "Shape of s is:  (3,)\n",
      "[[0 0]\n",
      " [0 0]\n",
      " [0 0]]\n"
     ]
    }
   ],
   "source": [
    "# Create a numpy array using zero function with (3,2) as passed parameter which takes default float\n",
    "# we get one dimensional array with 3 rows and 2 columns \n",
    "s = np.zeros((3,2),dtype = int) # default float\n",
    "print('Dimension of s is: ', s.ndim)\n",
    "print('Datatype of s is: ', s.dtype)\n",
    "print('Type of s is: ', type(s))\n",
    "print('Shape of s is: ', b.shape)\n",
    "\n",
    "print(s)\n"
   ]
  },
  {
   "cell_type": "markdown",
   "id": "f30f3383",
   "metadata": {},
   "source": [
    "Zero function returns a new array of given shape and type, filled with zeros"
   ]
  },
  {
   "cell_type": "markdown",
   "id": "202c1da5",
   "metadata": {},
   "source": [
    "## Using ones function"
   ]
  },
  {
   "cell_type": "code",
   "execution_count": 328,
   "id": "09ae95dd",
   "metadata": {},
   "outputs": [
    {
     "data": {
      "text/plain": [
       "array([[1., 1.],\n",
       "       [1., 1.],\n",
       "       [1., 1.]])"
      ]
     },
     "execution_count": 328,
     "metadata": {},
     "output_type": "execute_result"
    }
   ],
   "source": [
    "# Create a numpy array using ones function with (3,2) as passed parameter\n",
    "np.ones((3,2))"
   ]
  },
  {
   "cell_type": "markdown",
   "id": "111f3449",
   "metadata": {},
   "source": [
    "You noticed that ones function returns a new array one function of given shape and type, filled with ones. Default type is float"
   ]
  },
  {
   "cell_type": "markdown",
   "id": "6fd85eba",
   "metadata": {},
   "source": [
    "## Full Function"
   ]
  },
  {
   "cell_type": "code",
   "execution_count": 329,
   "id": "7914201f",
   "metadata": {},
   "outputs": [
    {
     "data": {
      "text/plain": [
       "array([[10, 10],\n",
       "       [10, 10],\n",
       "       [10, 10]])"
      ]
     },
     "execution_count": 329,
     "metadata": {},
     "output_type": "execute_result"
    }
   ],
   "source": [
    "# Create a numpy array using full function with (3,2) and 10 passes as parameter\n",
    "# full function is used to take required element into array\n",
    "np.full((3,2),10)"
   ]
  },
  {
   "cell_type": "markdown",
   "id": "04c89a58",
   "metadata": {},
   "source": [
    "<img src=\"data:image/jpeg;base64,/9j/4AAQSkZJRgABAQAAAQABAAD/2wCEAAoHCBUVExgSExQTGRIZGRkYEhkaGhsSGBgYHRsZGxgaGBgdIy0kGx0qHxgYJjclKi4xNDU0GiM6PzoyPi02NDEBCwsLEA8QHRISHzcqJCozNTM1MzMzMzMzMzMxPjUzMzMzMzM9MzMzMzMzMzMzMzMzMzMzMzMzMzMzMzMzMzMzM//AABEIAJ8BPQMBIgACEQEDEQH/xAAbAAEAAgMBAQAAAAAAAAAAAAAABAYDBQcCAf/EAD8QAAIBAgMEBQsDAwIHAQAAAAECAAMRBBIhBTFBURMiMnKxBgcVFjNSYXGRktFCgcEjocIUYjRzgpOy0vDh/8QAGQEBAAMBAQAAAAAAAAAAAAAAAAEDBAUC/8QAJhEAAgIBBAIBBQEBAAAAAAAAAAECEQMEEiExE1FhIjIzQVIUof/aAAwDAQACEQMRAD8A7NERAEREARPk+wBET5APsT5EA+xPk1VXbuHWnWrNU/p0GK12CsQrKAWAsOtbMOzfXTeDANtE1WE23SqI7p0oWmMzl6FaibWJ6oqIpbQHs3/vJuExKVaa1abBqbqGRhuKkXBH7QCRERAEREAREQBERAERNXtPbNHDlRVZ8z3yKlOpWdgvaISmrNYXFza2o5wDaRMGHrCogdc2VgGXMrU2sRcXVgGU/AgESHtPbNHDlFrM69IwVCKdSouYsFAZ0UqlywAzEQDZxNdtXa9LDIKldnVCbZlp1KoHxbIrZR8TYSeOcA9RIeBx9Ospek2ZQ7oSAQMyMVYC41swIuNNJFqbdw6pXqmp1MOxXEsFYhGVQzDQdYgML5b8t8A20TW7M2vTxGboul6ts2ejWw++9rdIi5tx3Xtpzk9jYXO4amAe4mm2X5R4fEkLRNVrglWahXpIQOTugU/WTMBj6dZWak4YLUam+hUq6MVdSCAQQR/O4wCbE+GabE+UuFp1TQaqQ4ZUY5KhpozWyo9ULkRjddGYHrDmIBuokJMfTNc4cOOmWmtRksQcjMyqwNrEXVhodOO8SbAEREAREQBERAOa1cFWTp69OltHp1xiNhwalRl6AuhqZaZqFGUhaujD9S2tpbE+FLYrHoibSqMtRf8ASGliHVKbtRpuQc1QBeu9+uCtjYDQidOmtwexMNSqNWpYeilVr53RFV2zHM12AubkAwDzTxFWnToCpTepVbIlZky5UbL16jXI6lxw5jSVbyy2fjKmJBVq3+k6MBBSV3Iq3bMXFOvSbUFbElhodx332fYBzqrTxGGw+Fx9f/U1MRSzUq1Jm6Nqq1GZKP8ATSo1PpFLpqSxIJv1gMvnavk/jKWGw9KlUrMmZ3x+VqlZ2dguQKDWR+jU3Wy1L9kkNqZc9o7BwuIYPiMNRquBlDOiuQN9gSN2pmzAgFX8iMPiKdF0rtWI6Qmj0qZGVLDQA1ajlc1+219eU1Xk/QV9jthqtKrUdWq0sZTpkLVNTpWNRgWYXJzZ9DqCLcpfZjRACSAASbmwtc7rnnoBAKt5OU3p1a75MTTwPRoVGJqNVfpBnNVlzuzKmXJe5tcaDfM/m/QjAUyQVRmqvRU6EUnqu9IW4DIy2HAG0sboCCCAQdCDqD8CJ6VQBYCwgHqIiAIiIAmDEWyNcMRY3C3DEW1C2sbzPPkA5xsXAVqYwbdHtDO9SomNFSpUcCiVdVzKzlVAZqZDL1rKdecPY2GqshNBNoHFLiqqUazV3bDikmIdSHD1CGQKrKQyliRodxnUKiBgVYAqQQQdQQdCDIezNj4fDgjD0aVINbNkRUzW3Xtv3mAe6mJYVVp9FUKsrM1QWyIVtZW1vc30sOEpvlFs5X2ilVsNj3prSdKj0nqoC56Mpky1FsLBr2sCbXvL9aIBS9rYerTr4gpRxdSlXwqKio7HLWU1A2rVB0RKmnqtrlSd+/DjqtY7Ow1E4bFPXC4VqvVDkNTemamdi3a6rHjeXq0QCreVeKqVcDUSnhsSz1qbqqhRmU7h0nW6t5uKNdqtBiqVKbFWVVdQrBrWBtc6XmxiQCueQLD0dh0GjInR1RxWqhK1AfjnDTT7CpK+y62GqUqtR1q4iljKaELVLtUZnYFiASVcONdQRblLwlMC9gBckmwtcneT8Z8WmASQACTckCxJ3XPPQCSCseTOHqpiKpRMVTwZpoFXEVGqOa+Zs7KHZmVcuQb7XGg3zb4LaYrrWZKblUqVKS6qvSsnVbJc6DMGS5tqp4azaTyqACwAA5DQQCkeT+AanXojDUMbRoqrjEjEVC6EW6iohdhmD8UAFgeYmx8lyGxWPqJ7E10VT+lqiU1WqV52YBSeanlLRMdOmFFlAAuTYCwuTcn6wCENog4o4VVYstIVXbTKqsxVFPHMxVyLcFN+F635WrVxA6KnQxoqpUTo7FBhqoV0cNVOfVNNQbNodJcgguTYXO88Tbdc8ZkgFWx5zbVwyp26dCs9cjctNyioGP8AudSQP9hPCWmYhTFy1hmNgTbUgXsCf3P1mWAIiIAiIgHyJptseUVLDMqVA92FxlUMLXtzE1/rzheVb7R+ZZHDOStJnhzinTZaYlZw/lphnZUUVbsbC6i1/rNr6Xp8n+g/Mh4pLtEqcX0zYxNd6XTk/wBB+Y9Lpyb6D8yNkvQ3I2MTXel05N9B+Y9Lpyb6D8xsl6G5Gxia70unJvoPzHpenyf6D8xsl6G5Gxia70unJvoPzHpdOT/QfmNkvQ3I2MTXel05P9B+ZNpVAyhhuIuLyHFrslNMyxESCRERAEREA+RNNtnygpYVlWqHuwJGUA6A211HOa/15wvKt9o/MsjinJWkzw5xTpstMSrevOF5VvtH5j15wvKt9o/MnwZP5Y8kfZaYlW9ecLyrfaPzHrzheVb7R+Y8GT+WPJH2WmJVvXnC8q32j8x684XlW+0fmPBk/ljyR9lpiVb15wvKt9o/MevOF5VvtH5jwZPTHkj7LTEq3rzheVb7R+Y9ecLyrfaPzHgyfyx5I+y0xNRsbb9LFFhSD3QAtmAG+9rankZt5W006Z6TTVo+xESCRERAEREA515x/bUu4f8AyMo2KxDIyAKCrMqsSd1+Q4mXrzjj+tS7h/8AIyj4rDM+WzAZWDaqWuR/1DSdjT34VRgy1vdmz2T7en31lw2njBRovWKlgiM+Ub2sNAPnKfskHpqd/fX4S44/CrWpPRe+R1KNY2NiLXB5yNV2q9E4eiPh8VUFboKvRkmn0isgZRowV1IJN7XWzX110FpsJCw2EYVOlqVFepkCLZOjULe7G2ZiSTbjbQWEmzMlxyXEHEYqoaooUsgbIXZnDOB1gqKFBF7m9zfTLuN9Pey8Z01FKuXKXUErfNlO4i/HUHWecTgmNQVqdQJUCFGzJ0ilSQwNsykEEc+J0PDNgcKtKmlJL5UUKCdSfifid8hWGZ5pcLtd2/09RlTo8QzLTAuHXqO6FiTZrqhuABYsN9rzdTVYTY+TolNTNToFjQXLlYXVkXO+Y5squwGg5m9od2SjayHtDFsjUkQDPVcopIJVQEd2ZgCL6IQBcakSZImOwXSFHDZalN86EjOLlWRgy3FwVdhvHAwyEedm4tqmdXCh6bsj5b5WsFYMAdRdWGlzY31Muez/AGad2VDAYTow12zO7s9RrZQWNhoutgAAALndLfs/2S92VZeke8fbJUREzloiIgCIiAc885HtaPdfxEoeOxJRSwKXAuqm+Zj7q68dBuO+Xzzke1o91vESj4iizgrmAVhlYFcx132N/EGdjTX4VRgyV5HZnE8uTY2sDbedw+J+EItgANwAA47ocG2hseBtf+01PopMGExBfOOqQpsGXRW0BNtTuvbfJMwUaFmZybs1r2GUWF7aXOuu/wCUzxC65JlV8ETEYkq6qChzMq5B28p3te/DU7tw3yXI9fDF9GYZMysBl63VIIGa/McpIkRu3YlXBjrPYXzKvMtuA+o8Z4wVcugYgDVgLbmAJAYfAgX/AHmRw36SAfiMwt8rieMNQyAi9yWLNpYXO+w4COd3wOKM0iJiT0gp3Rrhi2W90ta2bU793CS5GOHJZWdgchJWy5TqCOsbm4sd2kSu1QjXNl+823br92n4vL9KD5tu3X7tPxeX6cfWflZvwfYj7ERMxaIiIAiIgGj25217v8zQ4raNOmSrs1wud8qs+VL2zNlByjQ7+R5Gb7bvbXu/zKjiaVRK2IcU2datFEp5deunSgq3BQc6kE6dqaoNqKopa+onbUe+Hcg3BRiDvBFpRiB8Jcq2HNPBmmTcpRCE8yFsfCU1t3/xnQ0/2sy5e0YcPXSoCyEEAkXtbUfPfLd5Jj+m/f8A8RKbgQQXurC7sy3FrggW8JcvJT2b9/8AxEnJzjtiCqRtcTjUpkK2YsQzBVVqjZVtmOVQTYXH1mShWV0WojBkYBlYagg7iJAxCsmJFbI70zSKdQZiGDhgLciL67rjW0y7EwrUsPTpvbOqjMAbgE6kA8bXtMKZoaJ8hUtp0mZUDG7lhTJVgrlO0EcizEWJ0O4HlJhlc2fgqmTB0mpsrYdiarHs9Wm9NcjfqzFwRbhe9jpJbdhFjmLE4lKYBcnrMFUAFmZjuCqNSd5+QJmWa3a1BjUw9RVLLTqM1QDVsrU3TMo42LjTleQwibhsStRcyG4BKm4KkMNCCp1Blr2f7JPlKTsmgy9LUYFekqs6qd4XKqC44E5L2+I4y7bP9kvylWXpHuHZKiImctEREAREQDnnnI9pR7reIlIr4hU1a4AFybEgDmSBpLv5yPa0e63iJQtoDMjLaobroAAVY+63w53toZ2NM2sKaMGRJ5HZMnl2sCTfTkCT+wG+EvYXtewvbdfjb4RUNgTY/tv/AGmp9FJ5pVla4F7qbMCCpGlxoZkkTB0yHc2OVipBbRibWOnugZbfvJcQba5Ekk+DC+IUEKbi5Cg5TludwzWtM0g4xCxXKHJV1IBHU0OrE/AX47wNJOkRbbZLS4PLvbU35aAt4TzRqq4zKbjUctQbEEHcQRFZrD9XzUXI/b/8mLAIVQgi3WYrftEE3u3+4m5i3uoVxZJmFcQpbLqGN7XUre2+xI1maQSjGojgPpmDZxYKCP08zcDnpeTJtVQiuzofm27dfu0/F5fpQfNt26/dp+Ly/Tjaz8rN+D7EfYiJmLRERAEREA0e3e2vd/maybPbvbXu/wAym421StikqMctPD02p6lMhbpi7qQdGuijNwy/GaoOooqkrkbuvSDqUbssCDw0M1voChyf7jJmzajNRptU9oUQvw6xUE/3kfyhrvTwld6ZKutN2VhqVIB1HxG+XKco9Mq2qXZj9X6Puv8AcZB2hVOEISjYK4zNm6+u7wk3DUxTxYp079GaGZxcsMwcBG1/UQW142+E13lX7RO4fGW4puUkpcnjJFRVoj+sFbmn2wfKCtzT7ZXNqqcgYMwsyaA2Bu6jXidL6fGTWmlQi21RU3Krs6LPs+Sr7OqNkwNUFukqu3+oNyS4NOo7hgeCuq2H6bAC26c9umakuC0T7Pk1W2XPSYamSejeqVqDcGC0qjqpPLMq6cbWkMI20suz/ZL3ZRtiE/1kuTTSs607m9lyoSoJ4Biwtw3cJedn+yX5SrNzFHuHZKiImctEREAREQDnnnI9rR7r+IlOlx85HtKPdbxEoG00JRioGYKetmsV/wByjmNTvF7WnY00qwpmDIryNE6J5RrgEbiARw3w63BB48L2v+81/ooPUSFgtHqIdDdWCjVQCLCx+JU6WEmyIytWTJU6ESBjlylXAsM65nBJa1wMuXkdB+97SfEZW2iWqETHWS4tYH4E2B+fOR9mk5CCTmVmBG/L1iQoPEAEAHw3Ru+qiK4smREgMMtVNMqtnAIJbObZusOGgJvryiUqolKzonm27dfu0/F5fpQfNt26/dp+Ly/Tjaz8rN+D7EfYiJmLRERAEREA0e3O2vd/maWvhKdQhqlNGIFlLKGIBIJAJ4XA+k3W3e2vd/mVbFY+r0lVKQp/0qaOxcMQ5fOVRSCMuiG517Q00mqDSirKZL6jawRw4TFg8QKlNKgBAdVcA8MwBt/eYtp4wUaNSsVLZEZ8o3tYaAfOWM8oy4bC06YtTpogNr5VC7tBu5TV7b2XUqurIUACkHMSON+AMk4fF1BW6Cr0ZJp51ZAyAWYK6kMxvvFjfnoJsJMJuLtESjfDKfV8lqj6OKLD4knxX4T2PJmrawNIcB1m/wDWb7E4qoaooUujDZC7M6s4HWCooVWXebkm+ltxvpl2TjOmopVy5S6glb3sdxAPEXB1lq1ErPDxqiD6x0vdqfav/tMFPbGFVi60mDm92CIDqbtqDxIBMrUiUK7mo6MqgKFZbG5IYsNeHAafGXvDC1ZWpyOg4DatOqxVA4IFzmAAtcDgTzkqvRVxldVZbg2YBhcG4NjxBErfkr7R+5/ks3e0cWyNSRAM9VyilgWVQEZ2YgEE6IQBcakTNlioypFsG5KyVSpKihUUKo3ACwHHcJadn+yX5SmbMxbVM6uFz03ZGK3CtYKwYAkkXDDS51vLns/2SfKZcvSLodkqIiZy0REQBERAOeecj2tHut4iUp6CMbsqk7rkA6S6+cj2tHut4iUPHYgopYFLgXVTfMx91ddL7tx3zs6ZpYU2YMibm6Jc8ugIsQCDvB1E9CeXJsSCAbbzuHxPwmp9FB8Smq9kAX1Nhae5GwlcuXHVIVrBl0VtATbU7ibb5JiLTVolpp8mPoEvmyrmve9he+69+cySJXxJV1UFDmZVya58p3te/DU7uElyItO6JaZ4emraMAeIuL6z6iACygAcANBPNZrC+ZV5lt3iPGeMFWLoGIG9gLbmAJAYX4EAH95FrdQp1ZnmNKCKbqqg8wAN++ZJETEnpBTujAhi2UG6WtbMbnfe3CTJpNWEn+joHm27dfu0/F5fpQfNt26/dp+Ly/Tjaz8rN+D7EfYiJmLRERAEREA0e3e2vd/mVrFbMLVHenUKGoi06vVD9Vc2VkuQFcB31IYajTSWXbvbXu/zNBito06ZKsWJVM7hVZ8iXIzNYaDQ255TyM1Y62qymV7uCRRpBFVFFlUBVHIAWHhMeOwi1ab0XvkdSjW0NiLaHgZmRgQCCCCLgjUEHcRPNWoqKXchUUFmJ0AA1JJlj+TyiNhsEwfpajh6mQItl6NQt7sbXJzMbXN7dUWA1vMkbDY5KjZBmD5Q+VlamSh3MAw3aftxkmQgQ8TgmNQVqb5KgRkN16RSpIYaXBDAjQ3tqbg8M2Awq0qaUkvlQBQTqTbiTzM84nGJTIU5i5DMFVTUbKtsxsBu1H1mTD1lqItRGDIwDIw1BB3ESVQZQOjPI/QzBTwjio1Qm+ZVUjIRopYjW+/U/SdLvIVLalNmVAx65YISrBXKXzBGIsTYE/EKSLgTS9QuLX/SpYvk0fkuLVHvp1OOn6hN5jsKKhRw4WpTfOh7QuVZGDLcXBV2G8cDIHlX7NO//i0qNeqqKWYgKP3/AGA4menjWRbm6IUtnC5L9gcMKYa7hnd2eo2i3Y23DgAAoA10G8nWXDZ/sk+U4nTYMoYbiAR8jqJ2DyX/AODof8tZk1eLZFNMtwz3SZt4iJhNIiIgCIiAc885HtaPdbxEo+Ios4K5gFYZWGXMdd5Bv4gy8ecj2tHut4iUiviFQEtmsBdjYkAcyZ2dNXhVmDLe90ZEWwAG4AAcd0ODbQ2PA2v/AGnqfHawJ105C5/YCaX0UGGjQszOTdmsDYZRYXtYXOup1vM8x0qwa4F7qbMCLEaXEyRGq4Jd3yR6+HL6MwyZla2XrdUggZr8xyvJEwviFUgHMLkKCQcuY7hf+3z0maI1+g7/AGeHDfpIB+IzD5WuPGeMPQyAi9yWLMdwud9hwEyO9uBPyBPhPNGqHGZTpcjkQQbEEcCCI4v5HNGSRzhyWVna+QkrYZTqCOsbm+h4WkiYVxClgvWBN7XBW9t9iYlXFhX+i9+bbt1+7T8Xl+lB823br92n4vL9ONrPys6GD7EfYiJmLRERAEREA0e3O2vd/mVHE0aiVsQ4ps61aKJTy27adICrXIyg9IpB3dqdAxGDRyCwNwLDUiYvRdPkfqZdHIttMrcXdlXwGHNOklMm5REQnmVUAn+0wbdwjVcNWpJbO6MqX0BYjQE8pb/RVPkfqY9F0+R+pnt5UyFBlLoI1TECsUdFWlks9gSzMGIsCeyFGu7XS82csPoqnyP1MeiqfI/UwsyQ2MpmIR0xIrBHdDSKHLYsGDhhoSNCL68xrMuxMK1LD06b2zqozWNwCdSAeNr2lu9F0+R+pj0VT5H6mQsqQcGV4yuYDA1MmDpNTKnDsTUY2ynKj01yG+uYuCPgDex0nRPRVPkfqY9FU+R+ph5YjYyh+Vfs07/+LSo4nsNoSbEC2pvYzsOO8nqFVQrqxANxZiNbEcPnIfqXg/cf73/M0w1cFHa7KZYZOVo5PggRTQEEEKoIPMAAzsvkv/wdD/lrIPqXhPcf73/M3mDwy00WmgIVRZQTc2+ZlWp1EckUo3we8OJxbbJMRExmgREQBERAOeecj2tHut4iULHrmVktUN10tbKx5H4c76WM7VtXYVHElWqqSVBC2Yrod+6QfUvCe4/3v+Zvw6mEcajKzLPFJy3I5al7C9r2F7br8bfCKhsCbE/K1/2vOpepeE9x/vf8x6l4T3H+9/zL/wDbj+Tx/nn8HJMIhDubHKxUgt2ybWP/AE7rfvJc6h6l4P3H+9/zHqXhPcf73/MiOtxpVyHgk3fByHFoWK5Ve6upF7ZNDqx56XtxuBJ06h6l4P3H+9/zHqXhPcf/ALjfmFrcavsPBN+jldY6bm3/AKd4+Py/MxYCmVQgiwzMVv2iCb3f/cTczrPqXg/cf/uP+Y9S8H7j/e/5j/bju+R4JVXBy+QSjGojgPpmD57WUEfpt+q4H7XnXvUvCe4/3v8AmPUvB+4/3v8AmJa3G67CwSXo0nm27df5U/F5fpq9k7Do4YsaSsCwAa7Ft17b928zaTn58inNyRpxxcY0z7ERKiwREQBERAEREAREQBERAEREAREQBERAEREAREQBERAEREAREQBERAEREAREQBERAEREAREQBERAEREA/9k=\">"
   ]
  },
  {
   "cell_type": "markdown",
   "id": "82b31438",
   "metadata": {},
   "source": [
    "## Using diag function"
   ]
  },
  {
   "cell_type": "code",
   "execution_count": 330,
   "id": "b1d14af7",
   "metadata": {},
   "outputs": [
    {
     "data": {
      "text/plain": [
       "array([[1, 0, 0, 0, 0, 0],\n",
       "       [0, 2, 0, 0, 0, 0],\n",
       "       [0, 0, 3, 0, 0, 0],\n",
       "       [0, 0, 0, 4, 0, 0],\n",
       "       [0, 0, 0, 0, 5, 0],\n",
       "       [0, 0, 0, 0, 0, 6]])"
      ]
     },
     "execution_count": 330,
     "metadata": {},
     "output_type": "execute_result"
    }
   ],
   "source": [
    "# create a numpy \n",
    "x = [1,2,3,4,5,6]\n",
    "np.diag(x)"
   ]
  },
  {
   "cell_type": "markdown",
   "id": "f463e136",
   "metadata": {},
   "source": [
    "# Using Random numbers"
   ]
  },
  {
   "cell_type": "code",
   "execution_count": 331,
   "id": "9278265b",
   "metadata": {},
   "outputs": [
    {
     "data": {
      "text/plain": [
       "0.8575714739206403"
      ]
     },
     "execution_count": 331,
     "metadata": {},
     "output_type": "execute_result"
    }
   ],
   "source": [
    "# random to create element randomly between 0 to 1. Output changes randomly\n",
    "# separate module and has many functions like randint\n",
    "# random is used to generate OTP randomly in realtime\n",
    "np.random.random(1)[0]"
   ]
  },
  {
   "cell_type": "code",
   "execution_count": 332,
   "id": "0519df20",
   "metadata": {},
   "outputs": [
    {
     "data": {
      "text/plain": [
       "array([[-0.24542185, -1.82010899,  0.53791665],\n",
       "       [ 0.5746081 ,  0.08998073,  0.71880904]])"
      ]
     },
     "execution_count": 332,
     "metadata": {},
     "output_type": "execute_result"
    }
   ],
   "source": [
    "# get an array as stated above\n",
    "# not possible for integer\n",
    "np.random.randn(2,3)  # (2,3) means 2 rows and 3 columns with its elements as randomly between 0 and 1"
   ]
  },
  {
   "cell_type": "code",
   "execution_count": 333,
   "id": "687fe9af",
   "metadata": {},
   "outputs": [
    {
     "data": {
      "text/plain": [
       "1"
      ]
     },
     "execution_count": 333,
     "metadata": {},
     "output_type": "execute_result"
    }
   ],
   "source": [
    "np.random.randint(2)"
   ]
  },
  {
   "cell_type": "code",
   "execution_count": 334,
   "id": "605aa9d4",
   "metadata": {},
   "outputs": [
    {
     "ename": "TypeError",
     "evalue": "rand() got an unexpected keyword argument 'dtype'",
     "output_type": "error",
     "traceback": [
      "\u001b[1;31m---------------------------------------------------------------------------\u001b[0m",
      "\u001b[1;31mTypeError\u001b[0m                                 Traceback (most recent call last)",
      "\u001b[1;32m<ipython-input-334-6db125fdf860>\u001b[0m in \u001b[0;36m<module>\u001b[1;34m\u001b[0m\n\u001b[1;32m----> 1\u001b[1;33m \u001b[0mnp\u001b[0m\u001b[1;33m.\u001b[0m\u001b[0mrandom\u001b[0m\u001b[1;33m.\u001b[0m\u001b[0mrand\u001b[0m\u001b[1;33m(\u001b[0m\u001b[1;36m2\u001b[0m\u001b[1;33m,\u001b[0m\u001b[1;36m3\u001b[0m\u001b[1;33m,\u001b[0m\u001b[0mdtype\u001b[0m\u001b[1;33m=\u001b[0m\u001b[0mint\u001b[0m\u001b[1;33m)\u001b[0m\u001b[1;33m\u001b[0m\u001b[1;33m\u001b[0m\u001b[0m\n\u001b[0m",
      "\u001b[1;31mTypeError\u001b[0m: rand() got an unexpected keyword argument 'dtype'"
     ]
    }
   ],
   "source": [
    "np.random.rand(2,3,dtype=int)"
   ]
  },
  {
   "cell_type": "markdown",
   "id": "92248b7c",
   "metadata": {},
   "source": [
    "# Numpy Reshape\n",
    "\n",
    "* Reshaping means changing shape of array. The shape of an array is the number of elements in each dimension. By reshaping we can add or remove or change number of elements in each dimension\n",
    "* During reshape conversion first columns is converted and then rows are considered\n",
    "* Original matrix shape (3,4) can be reshaped to (6,2), (2,6), (4,3), (1,12), (12,1) possible shapes. where 3 * 4 = 12\n"
   ]
  },
  {
   "cell_type": "markdown",
   "id": "fde3653b",
   "metadata": {},
   "source": [
    "<img src = \"https://backtobazics.com/wp-content/uploads/2018/08/numpy-reshape-examples.jpg\">"
   ]
  },
  {
   "cell_type": "code",
   "execution_count": 335,
   "id": "0b758900",
   "metadata": {},
   "outputs": [
    {
     "name": "stdout",
     "output_type": "stream",
     "text": [
      "[ 1  2  3  4  5  6  7  8  9 10 11 12 13 14 15 16]\n",
      "(16,)\n"
     ]
    }
   ],
   "source": [
    "# Taking a sample arange() numpy array x with numbers between 1 to 16 for reshape illustration\n",
    "x = np.arange(1,17)\n",
    "print(x)\n",
    "print(x.shape)"
   ]
  },
  {
   "cell_type": "code",
   "execution_count": 336,
   "id": "0c854ca0",
   "metadata": {},
   "outputs": [
    {
     "name": "stdout",
     "output_type": "stream",
     "text": [
      "[[ 1  2]\n",
      " [ 3  4]\n",
      " [ 5  6]\n",
      " [ 7  8]\n",
      " [ 9 10]\n",
      " [11 12]\n",
      " [13 14]\n",
      " [15 16]]\n",
      "(8, 2)\n"
     ]
    }
   ],
   "source": [
    "# reshape x with 2 rows and 8 columns\n",
    "n = x.reshape((8,2))\n",
    "print(n)\n",
    "print(n.shape)"
   ]
  },
  {
   "cell_type": "code",
   "execution_count": 337,
   "id": "a83c4639",
   "metadata": {},
   "outputs": [
    {
     "name": "stdout",
     "output_type": "stream",
     "text": [
      "[ 1  2  3  4  5  6  7  8  9 10 11 12 13 14 15 16]\n",
      "(16,)\n"
     ]
    }
   ],
   "source": [
    "# convert to old dimension. ravel() function is used change to old dimension\n",
    "v = n.ravel()\n",
    "print(v)\n",
    "print(v.shape)"
   ]
  },
  {
   "cell_type": "markdown",
   "id": "1263ad48",
   "metadata": {},
   "source": [
    "<img src = \"https://www.w3resource.com/w3r_images/numpy-manipulation-ravel-function-image-1.png\">"
   ]
  },
  {
   "cell_type": "code",
   "execution_count": 338,
   "id": "59105c03",
   "metadata": {},
   "outputs": [
    {
     "name": "stdout",
     "output_type": "stream",
     "text": [
      "[ 1  2  3  4  5  6  7  8  9 10 11 12 13 14 15 16]\n"
     ]
    },
    {
     "data": {
      "text/plain": [
       "array([[ 1,  3,  5,  7,  9, 11, 13, 15],\n",
       "       [ 2,  4,  6,  8, 10, 12, 14, 16]])"
      ]
     },
     "execution_count": 338,
     "metadata": {},
     "output_type": "execute_result"
    }
   ],
   "source": [
    "# reshape x with dimensions that will have 2 arrays that consists of 4 arrays, each with 2 elements\n",
    "# By default columns are considered first while reshaping\n",
    "print(x)\n",
    "x.reshape((2,8),order='F') # order = 'F' to reshape first by taking rows"
   ]
  },
  {
   "cell_type": "code",
   "execution_count": 339,
   "id": "35e95097",
   "metadata": {},
   "outputs": [
    {
     "data": {
      "text/plain": [
       "array([ 1,  2,  3,  4,  5,  6,  7,  8,  9, 10, 11, 12, 13, 14, 15, 16])"
      ]
     },
     "execution_count": 339,
     "metadata": {},
     "output_type": "execute_result"
    }
   ],
   "source": [
    "# flattening x convert array into one dimension\n",
    "# flatten() means one dimension and gets converted irrespective of its previous dimension\n",
    "x.flatten()"
   ]
  },
  {
   "cell_type": "markdown",
   "id": "d182bf9a",
   "metadata": {},
   "source": [
    "<img src=\"https://www.w3resource.com/w3r_images/numpy-manipulation-ndarray-flatten-function-image-1.png\">"
   ]
  },
  {
   "cell_type": "markdown",
   "id": "b0a3af99",
   "metadata": {},
   "source": [
    "## Numpy Array Indexing\n",
    "\n",
    "* Array indexing is the same as accessing an array element. You can access any element by refering to its index number.\n",
    "* The indexes in Numpy arrays start with 0, meaning that the first element has index 0, and the second had index 1 etc."
   ]
  },
  {
   "cell_type": "code",
   "execution_count": 340,
   "id": "76cf94df",
   "metadata": {},
   "outputs": [
    {
     "data": {
      "text/plain": [
       "array([ 2,  4,  6,  8, 10, 12, 14, 16])"
      ]
     },
     "execution_count": 340,
     "metadata": {},
     "output_type": "execute_result"
    }
   ],
   "source": [
    "# create an numpy array a with all even numbers between 1 to 17\n",
    "a = np.arange(2,17,2)\n",
    "\n",
    "# print a\n",
    "a"
   ]
  },
  {
   "cell_type": "code",
   "execution_count": 341,
   "id": "1be0ee1f",
   "metadata": {},
   "outputs": [
    {
     "data": {
      "text/plain": [
       "6"
      ]
     },
     "execution_count": 341,
     "metadata": {},
     "output_type": "execute_result"
    }
   ],
   "source": [
    "# Get 3rd element in array a\n",
    "a[2]"
   ]
  },
  {
   "cell_type": "code",
   "execution_count": 342,
   "id": "ff584efe",
   "metadata": {},
   "outputs": [
    {
     "data": {
      "text/plain": [
       "array([ 6, 10, 14])"
      ]
     },
     "execution_count": 342,
     "metadata": {},
     "output_type": "execute_result"
    }
   ],
   "source": [
    "# print 3rd, 5th and 7th element in array a\n",
    "a[2:7:2]"
   ]
  },
  {
   "cell_type": "markdown",
   "id": "e509a288",
   "metadata": {},
   "source": [
    "Lets check the same for 2D array"
   ]
  },
  {
   "cell_type": "code",
   "execution_count": 343,
   "id": "e40fd405",
   "metadata": {},
   "outputs": [
    {
     "data": {
      "text/plain": [
       "array([[1, 2, 3],\n",
       "       [4, 5, 6],\n",
       "       [7, 8, 9]])"
      ]
     },
     "execution_count": 343,
     "metadata": {},
     "output_type": "execute_result"
    }
   ],
   "source": [
    "# Define an array 2D a with [[1,2,3],[4,5,6],[7,8,9]] as its elements\n",
    "a = np.array([[1,2,3],[4,5,6],[7,8,9]])\n",
    "a"
   ]
  },
  {
   "cell_type": "code",
   "execution_count": 344,
   "id": "176871b2",
   "metadata": {},
   "outputs": [
    {
     "data": {
      "text/plain": [
       "9"
      ]
     },
     "execution_count": 344,
     "metadata": {},
     "output_type": "execute_result"
    }
   ],
   "source": [
    "# print the 3rd element from the 3rd row of a\n",
    "a[2,2]"
   ]
  },
  {
   "cell_type": "markdown",
   "id": "b98821f3",
   "metadata": {},
   "source": [
    "<img src = \"https://qph.fs.quoracdn.net/main-qimg-cc51a4de89837eca971f0202e7572d88\">"
   ]
  },
  {
   "cell_type": "code",
   "execution_count": 345,
   "id": "214c21a4",
   "metadata": {},
   "outputs": [
    {
     "data": {
      "text/plain": [
       "array([[[ 1,  2,  3],\n",
       "        [ 4,  5,  6]],\n",
       "\n",
       "       [[ 7,  8,  9],\n",
       "        [10, 11, 12]]])"
      ]
     },
     "execution_count": 345,
     "metadata": {},
     "output_type": "execute_result"
    }
   ],
   "source": [
    "# Define an array b again with [[1,2,3],[4,5,6]],[7,8,9],[10,11,12]]] as its elements\n",
    "b = np.array([[[1,2,3],[4,5,6]],[[7,8,9],[10,11,12]]])\n",
    "b"
   ]
  },
  {
   "cell_type": "code",
   "execution_count": 346,
   "id": "8d47d89f",
   "metadata": {},
   "outputs": [
    {
     "data": {
      "text/plain": [
       "(2, 2, 3)"
      ]
     },
     "execution_count": 346,
     "metadata": {},
     "output_type": "execute_result"
    }
   ],
   "source": [
    "b.shape"
   ]
  },
  {
   "cell_type": "code",
   "execution_count": 347,
   "id": "b126403c",
   "metadata": {},
   "outputs": [
    {
     "data": {
      "text/plain": [
       "6"
      ]
     },
     "execution_count": 347,
     "metadata": {},
     "output_type": "execute_result"
    }
   ],
   "source": [
    "# Print 3rd element from 2nd list which is 1st list in nested list passed. Confusing right? 'b' have nested array.Understand the braket differences.\n",
    "b[0][1][2]"
   ]
  },
  {
   "cell_type": "markdown",
   "id": "a76fa52e",
   "metadata": {},
   "source": [
    "Great Job! So now you have learned how to index on various dimension of numpy array. "
   ]
  },
  {
   "cell_type": "markdown",
   "id": "b4b33389",
   "metadata": {},
   "source": [
    "# Numpy Array Slicing\n",
    "\n",
    "* Slicing in python means taking elements from one given index to another given index.\n",
    "1. We pass slice instead of index like this: [start:end]\n",
    "2. We can also define the step, like this: [start:end:stop]\n",
    "3. If we dont pass start its considered 0\n",
    "4. If we dont pass and its considered length of array in that dimension\n",
    "5. If we dont pass step its considered 1"
   ]
  },
  {
   "cell_type": "markdown",
   "id": "25c1dab9",
   "metadata": {},
   "source": [
    "1. Array Slicing in 1-D array."
   ]
  },
  {
   "cell_type": "code",
   "execution_count": 348,
   "id": "deede9fc",
   "metadata": {},
   "outputs": [
    {
     "data": {
      "text/plain": [
       "array([ 1,  2,  3,  4,  5,  6,  7,  8,  9, 10])"
      ]
     },
     "execution_count": 348,
     "metadata": {},
     "output_type": "execute_result"
    }
   ],
   "source": [
    "arr=np.arange(1,11)\n",
    "arr"
   ]
  },
  {
   "cell_type": "code",
   "execution_count": 349,
   "id": "11e95a43",
   "metadata": {},
   "outputs": [
    {
     "data": {
      "text/plain": [
       "array([1, 2, 3, 4, 5])"
      ]
     },
     "execution_count": 349,
     "metadata": {},
     "output_type": "execute_result"
    }
   ],
   "source": [
    "# Slice elements from 1st to 5th element from array arr:\n",
    "arr[0:5]\n"
   ]
  },
  {
   "cell_type": "code",
   "execution_count": 350,
   "id": "6a11de7b",
   "metadata": {},
   "outputs": [
    {
     "data": {
      "text/plain": [
       "array([ 6,  7,  8,  9, 10])"
      ]
     },
     "execution_count": 350,
     "metadata": {},
     "output_type": "execute_result"
    }
   ],
   "source": [
    "# Slice elements from index 5 to the end of the array arr:\n",
    "arr[5:]"
   ]
  },
  {
   "cell_type": "code",
   "execution_count": 351,
   "id": "c467ec3e",
   "metadata": {},
   "outputs": [
    {
     "data": {
      "text/plain": [
       "array([1, 2, 3, 4, 5])"
      ]
     },
     "execution_count": 351,
     "metadata": {},
     "output_type": "execute_result"
    }
   ],
   "source": [
    "# Slice elements from the beginning to index 5 (not included) in array arr:\n",
    "arr[0:5]"
   ]
  },
  {
   "cell_type": "code",
   "execution_count": 352,
   "id": "902b8f35",
   "metadata": {},
   "outputs": [
    {
     "data": {
      "text/plain": [
       "array([2, 4, 6])"
      ]
     },
     "execution_count": 352,
     "metadata": {},
     "output_type": "execute_result"
    }
   ],
   "source": [
    "# Print every other even element from index 1 to index 7:\n",
    "arr[1:7:2]"
   ]
  },
  {
   "cell_type": "code",
   "execution_count": 353,
   "id": "4b5ac6a1",
   "metadata": {},
   "outputs": [
    {
     "data": {
      "text/plain": [
       "array([1, 3, 5, 7, 9])"
      ]
     },
     "execution_count": 353,
     "metadata": {},
     "output_type": "execute_result"
    }
   ],
   "source": [
    "# Return every other odd element from the entire array arr:\n",
    "arr[0:10:2]"
   ]
  },
  {
   "cell_type": "code",
   "execution_count": 354,
   "id": "845c5725",
   "metadata": {},
   "outputs": [
    {
     "data": {
      "text/plain": [
       "array([[1, 2, 3],\n",
       "       [4, 5, 6],\n",
       "       [7, 8, 9]])"
      ]
     },
     "execution_count": 354,
     "metadata": {},
     "output_type": "execute_result"
    }
   ],
   "source": [
    "# Print array a\n",
    "a"
   ]
  },
  {
   "cell_type": "code",
   "execution_count": 355,
   "id": "112fa7c3",
   "metadata": {},
   "outputs": [
    {
     "data": {
      "text/plain": [
       "3"
      ]
     },
     "execution_count": 355,
     "metadata": {},
     "output_type": "execute_result"
    }
   ],
   "source": [
    "# In array 'a' print index 2 from all the rows :\n",
    "arr[2]"
   ]
  },
  {
   "cell_type": "code",
   "execution_count": 356,
   "id": "cdeb2313",
   "metadata": {},
   "outputs": [
    {
     "data": {
      "text/plain": [
       "array([[2, 3],\n",
       "       [5, 6],\n",
       "       [8, 9]])"
      ]
     },
     "execution_count": 356,
     "metadata": {},
     "output_type": "execute_result"
    }
   ],
   "source": [
    "# From all the elements in 'a', slice index 1 till end, this will return a 2-D array:\n",
    "a[0:,1:]"
   ]
  },
  {
   "cell_type": "markdown",
   "id": "f23de41c",
   "metadata": {},
   "source": [
    "Hurray! You have learned Slicing in Numpy array. Now you know to access any numpy array."
   ]
  },
  {
   "cell_type": "markdown",
   "id": "b92680c6",
   "metadata": {},
   "source": [
    "# Numpy Copy Vs View\n"
   ]
  },
  {
   "cell_type": "code",
   "execution_count": 357,
   "id": "6f3a427a",
   "metadata": {},
   "outputs": [
    {
     "data": {
      "text/plain": [
       "array([0, 1, 2, 3, 4, 5, 6, 7, 8, 9])"
      ]
     },
     "execution_count": 357,
     "metadata": {},
     "output_type": "execute_result"
    }
   ],
   "source": [
    "x1 = np.arange(10)\n",
    "x1"
   ]
  },
  {
   "cell_type": "code",
   "execution_count": 358,
   "id": "4f565867",
   "metadata": {},
   "outputs": [],
   "source": [
    "# assign x2 = x1\n",
    "x2 = x1  # view"
   ]
  },
  {
   "cell_type": "code",
   "execution_count": 359,
   "id": "783cc188",
   "metadata": {},
   "outputs": [
    {
     "name": "stdout",
     "output_type": "stream",
     "text": [
      "[0 1 2 3 4 5 6 7 8 9]\n",
      "[0 1 2 3 4 5 6 7 8 9]\n"
     ]
    }
   ],
   "source": [
    "## print x1 and x2. x1 nd x2 both are same\n",
    "print(x1)\n",
    "print(x2)"
   ]
  },
  {
   "cell_type": "code",
   "execution_count": 360,
   "id": "d4ae5d17",
   "metadata": {},
   "outputs": [],
   "source": [
    "x2[0] = 10"
   ]
  },
  {
   "cell_type": "code",
   "execution_count": 361,
   "id": "fd274818",
   "metadata": {},
   "outputs": [
    {
     "name": "stdout",
     "output_type": "stream",
     "text": [
      "[10  1  2  3  4  5  6  7  8  9]\n",
      "[10  1  2  3  4  5  6  7  8  9]\n"
     ]
    }
   ],
   "source": [
    "print(x1)\n",
    "print(x2)"
   ]
  },
  {
   "cell_type": "code",
   "execution_count": 362,
   "id": "5c4e9c87",
   "metadata": {},
   "outputs": [
    {
     "name": "stdout",
     "output_type": "stream",
     "text": [
      "True\n",
      "2342363956304\n",
      "2342363956304\n"
     ]
    }
   ],
   "source": [
    "### check memory share between x1 and x2\n",
    "print(np.shares_memory(x1,x2))  # if x1 and x2 share memory it will show True\n",
    "print(id(x1))\n",
    "print(id(x2)) # id will tell the address"
   ]
  },
  {
   "cell_type": "markdown",
   "id": "73236650",
   "metadata": {},
   "source": [
    "Hey It's True they both share same memory\n",
    "\n",
    "Shall we try **view()** function also likwise."
   ]
  },
  {
   "cell_type": "code",
   "execution_count": 363,
   "id": "5310ed92",
   "metadata": {},
   "outputs": [
    {
     "data": {
      "text/plain": [
       "array([10,  1,  2,  3,  4,  5,  6,  7,  8,  9])"
      ]
     },
     "execution_count": 363,
     "metadata": {},
     "output_type": "execute_result"
    }
   ],
   "source": [
    "# Create a view of x1 and store it in x3.\n",
    "x3 = x1.view()\n",
    "x3"
   ]
  },
  {
   "cell_type": "code",
   "execution_count": 364,
   "id": "b44709f8",
   "metadata": {},
   "outputs": [
    {
     "data": {
      "text/plain": [
       "True"
      ]
     },
     "execution_count": 364,
     "metadata": {},
     "output_type": "execute_result"
    }
   ],
   "source": [
    "# Again check memory share between x1 and x3\n",
    "np.shares_memory(x1, x3)"
   ]
  },
  {
   "cell_type": "code",
   "execution_count": 365,
   "id": "495c411d",
   "metadata": {},
   "outputs": [],
   "source": [
    "#Change 1st element of x3=100\n",
    "x3[0] = 100"
   ]
  },
  {
   "cell_type": "code",
   "execution_count": 366,
   "id": "9910cd43",
   "metadata": {},
   "outputs": [
    {
     "name": "stdout",
     "output_type": "stream",
     "text": [
      "[100   1   2   3   4   5   6   7   8   9]\n",
      "[100   1   2   3   4   5   6   7   8   9]\n"
     ]
    }
   ],
   "source": [
    "#print x1 and x3 to check if changes reflected in both\n",
    "print(x1)\n",
    "print(x3)"
   ]
  },
  {
   "cell_type": "markdown",
   "id": "5f0b9700",
   "metadata": {},
   "source": [
    "Now its proved.\n",
    "\n",
    "## Lets see how **Copy()** function works"
   ]
  },
  {
   "cell_type": "code",
   "execution_count": 367,
   "id": "740c964a",
   "metadata": {},
   "outputs": [
    {
     "data": {
      "text/plain": [
       "array([100,   1,   2,   3,   4,   5,   6,   7,   8,   9])"
      ]
     },
     "execution_count": 367,
     "metadata": {},
     "output_type": "execute_result"
    }
   ],
   "source": [
    "# Now create an array x4 which is copy of x1\n",
    "\n",
    "x4 = np.copy(x1)\n",
    "x4"
   ]
  },
  {
   "cell_type": "code",
   "execution_count": 368,
   "id": "2613920d",
   "metadata": {},
   "outputs": [
    {
     "data": {
      "text/plain": [
       "array([100,   1,   2,   3,   4,   5,   6,   7,   8, 900])"
      ]
     },
     "execution_count": 368,
     "metadata": {},
     "output_type": "execute_result"
    }
   ],
   "source": [
    "# Change the last element of x4 as 900\n",
    "x4[-1] = 900\n",
    "x4"
   ]
  },
  {
   "cell_type": "code",
   "execution_count": 369,
   "id": "8047fa53",
   "metadata": {},
   "outputs": [
    {
     "name": "stdout",
     "output_type": "stream",
     "text": [
      "[100   1   2   3   4   5   6   7   8   9]\n",
      "[100   1   2   3   4   5   6   7   8 900]\n"
     ]
    }
   ],
   "source": [
    "# print both x1 and x4 to check if changes reflected in both\n",
    "print(x1)\n",
    "print(x4)"
   ]
  },
  {
   "cell_type": "markdown",
   "id": "5a164a89",
   "metadata": {},
   "source": [
    "Hey! such an intresting output. You noticed buddy! your original array didn't get changed on change of its copy ie. x4."
   ]
  },
  {
   "cell_type": "code",
   "execution_count": 370,
   "id": "3db03580",
   "metadata": {},
   "outputs": [
    {
     "data": {
      "text/plain": [
       "False"
      ]
     },
     "execution_count": 370,
     "metadata": {},
     "output_type": "execute_result"
    }
   ],
   "source": [
    "#Check memory share between x1 and x4\n",
    "np.shares_memory(x1, x4)"
   ]
  },
  {
   "cell_type": "markdown",
   "id": "f7bb6430",
   "metadata": {},
   "source": [
    "You see! x1 and x4 don't share its memory. \n",
    "\n",
    "So with all our outputs we can takeaway few points:\n",
    "\n",
    "    1. The main difference between a copy and a view of an array is that the copy is a new array, and the view is just a view of the original array.\n",
    "\n",
    "    2. The copy owns the data and any changes made to the copy will not affect original array, and any changes made to the original array will not affect the copy.\n",
    "\n",
    "    3. The view does not own the data and any changes made to the view will affect the original array, and any changes made to the original array will affect the view."
   ]
  },
  {
   "cell_type": "markdown",
   "id": "df7349d5",
   "metadata": {},
   "source": [
    "## Difference bwtween view, copy and shares_memory\n",
    "* copy will not change the data in old one\n",
    "* but view changes the data in old one\n",
    "* view and assign (=) both are same\n",
    "* shares_memory will help us to know whether two arrays share memory or not\n"
   ]
  },
  {
   "cell_type": "markdown",
   "id": "11e07bed",
   "metadata": {},
   "source": [
    "# More operation on Numpy"
   ]
  },
  {
   "cell_type": "markdown",
   "id": "2b571f8f",
   "metadata": {},
   "source": [
    "1. Applying Conditions"
   ]
  },
  {
   "cell_type": "code",
   "execution_count": 371,
   "id": "8de2de9c",
   "metadata": {},
   "outputs": [
    {
     "data": {
      "text/plain": [
       "array([[1, 2, 3],\n",
       "       [4, 5, 6],\n",
       "       [7, 8, 9]])"
      ]
     },
     "execution_count": 371,
     "metadata": {},
     "output_type": "execute_result"
    }
   ],
   "source": [
    "a"
   ]
  },
  {
   "cell_type": "code",
   "execution_count": 372,
   "id": "8132f040",
   "metadata": {},
   "outputs": [
    {
     "data": {
      "text/plain": [
       "array([[False, False, False],\n",
       "       [ True,  True,  True],\n",
       "       [ True,  True,  True]])"
      ]
     },
     "execution_count": 372,
     "metadata": {},
     "output_type": "execute_result"
    }
   ],
   "source": [
    "a > 3"
   ]
  },
  {
   "cell_type": "code",
   "execution_count": 373,
   "id": "4a47f38d",
   "metadata": {},
   "outputs": [
    {
     "data": {
      "text/plain": [
       "array([4, 5, 6, 7, 8, 9])"
      ]
     },
     "execution_count": 373,
     "metadata": {},
     "output_type": "execute_result"
    }
   ],
   "source": [
    "# This will show all the elements which are greater then 3\n",
    "a[a>3]"
   ]
  },
  {
   "cell_type": "code",
   "execution_count": 374,
   "id": "a7c75b52",
   "metadata": {},
   "outputs": [
    {
     "data": {
      "text/plain": [
       "array([4, 5])"
      ]
     },
     "execution_count": 374,
     "metadata": {},
     "output_type": "execute_result"
    }
   ],
   "source": [
    "# show elements which are greater than 3 and less than 6\n",
    "a[(a>3) & (a<6)]"
   ]
  },
  {
   "cell_type": "code",
   "execution_count": 375,
   "id": "0119eb81",
   "metadata": {},
   "outputs": [
    {
     "name": "stdout",
     "output_type": "stream",
     "text": [
      "[100   1   2   3   4   5   6   7   8   9]\n",
      "[100   1   2   3   4   5   6   7   8 900]\n"
     ]
    }
   ],
   "source": [
    "print(x1)\n",
    "print(x4)"
   ]
  },
  {
   "cell_type": "code",
   "execution_count": 376,
   "id": "9cabde9e",
   "metadata": {},
   "outputs": [
    {
     "data": {
      "text/plain": [
       "array([ True,  True,  True,  True,  True,  True,  True,  True,  True,\n",
       "       False])"
      ]
     },
     "execution_count": 376,
     "metadata": {},
     "output_type": "execute_result"
    }
   ],
   "source": [
    "# check if each elements in array 'x1' equals array 'x4' using '==' notation\n",
    "x1 == x4"
   ]
  },
  {
   "cell_type": "markdown",
   "id": "5adf6c7b",
   "metadata": {},
   "source": [
    "You can see in above output that the last element is not same in both x1 and x4\n",
    "\n",
    "Well done so far.\n",
    "\n",
    "Lets check how to transpose an array\n"
   ]
  },
  {
   "cell_type": "markdown",
   "id": "7e16cbd6",
   "metadata": {},
   "source": [
    "# Transpose Array"
   ]
  },
  {
   "cell_type": "code",
   "execution_count": 377,
   "id": "ab7e3c67",
   "metadata": {},
   "outputs": [
    {
     "name": "stdout",
     "output_type": "stream",
     "text": [
      "[[1 4 7]\n",
      " [2 5 8]\n",
      " [3 6 9]]\n",
      "..............\n",
      "[[1 2 3]\n",
      " [4 5 6]\n",
      " [7 8 9]]\n"
     ]
    }
   ],
   "source": [
    "# print Transpose of array 'a'\n",
    "print(a.transpose())\n",
    "print('..............')\n",
    "print(a)"
   ]
  },
  {
   "cell_type": "markdown",
   "id": "96a7c18a",
   "metadata": {},
   "source": [
    "In above output all the rows became columns by transposing "
   ]
  },
  {
   "cell_type": "markdown",
   "id": "d87c78fb",
   "metadata": {},
   "source": [
    "# Horizontal, Vertical stack\n",
    "**3. hstack vs vstack function**\n",
    "\n",
    "\n",
    "\n",
    "Stacking is same as concatenation, the only difference is that stacking is done along a new axis.\n",
    "\n",
    "NumPy provides a helper function: \n",
    "\n",
    "1. hstack() to stack along rows.\n",
    "2. vstack()  to stack along columns\n"
   ]
  },
  {
   "cell_type": "markdown",
   "id": "a9e905b5",
   "metadata": {},
   "source": [
    "<img src=\"https://images4.pianshen.com/908/91/91b34f7c4a78a2e22d6b7ba0a7186584.png\">"
   ]
  },
  {
   "cell_type": "code",
   "execution_count": 378,
   "id": "17d7b546",
   "metadata": {},
   "outputs": [
    {
     "name": "stdout",
     "output_type": "stream",
     "text": [
      "[100   1   2   3   4   5   6   7   8   9]\n",
      "[100   1   2   3   4   5   6   7   8 900]\n"
     ]
    },
    {
     "data": {
      "text/plain": [
       "array([[100,   1,   2,   3,   4,   5,   6,   7,   8,   9],\n",
       "       [100,   1,   2,   3,   4,   5,   6,   7,   8, 900]])"
      ]
     },
     "execution_count": 378,
     "metadata": {},
     "output_type": "execute_result"
    }
   ],
   "source": [
    "# stack x1 and x4 along columns.\n",
    "print(x1)\n",
    "print(x4)\n",
    "np.vstack((x1, x4))"
   ]
  },
  {
   "cell_type": "code",
   "execution_count": 379,
   "id": "a81e0318",
   "metadata": {},
   "outputs": [
    {
     "data": {
      "text/plain": [
       "array([100,   1,   2,   3,   4,   5,   6,   7,   8,   9, 100,   1,   2,\n",
       "         3,   4,   5,   6,   7,   8, 900])"
      ]
     },
     "execution_count": 379,
     "metadata": {},
     "output_type": "execute_result"
    }
   ],
   "source": [
    "#stack x1 and x4 along rows\n",
    "np.hstack((x1, x4))"
   ]
  },
  {
   "cell_type": "code",
   "execution_count": null,
   "id": "2b6edb27",
   "metadata": {},
   "outputs": [],
   "source": []
  },
  {
   "cell_type": "code",
   "execution_count": 380,
   "id": "78264586",
   "metadata": {},
   "outputs": [
    {
     "name": "stdout",
     "output_type": "stream",
     "text": [
      "[100   1   2   3   4   5   6   7   8   9]\n",
      "[100   1   2   3   4   5   6   7   8   9]\n"
     ]
    },
    {
     "data": {
      "text/plain": [
       "array([100,   1,   2,   3, 100,   1,   2,   3,   4,   5,   6,   7,   8,\n",
       "         9,   4,   5,   6,   7,   8,   9])"
      ]
     },
     "execution_count": 380,
     "metadata": {},
     "output_type": "execute_result"
    }
   ],
   "source": [
    "# Adding, Inserting and Delete Numpy\n",
    "print(x1)\n",
    "print(x2)\n",
    "np.insert(x1,4,x2)"
   ]
  },
  {
   "cell_type": "code",
   "execution_count": 381,
   "id": "767f9703",
   "metadata": {},
   "outputs": [
    {
     "name": "stdout",
     "output_type": "stream",
     "text": [
      "[100   1   2   3   4   5   6   7   8   9]\n"
     ]
    },
    {
     "data": {
      "text/plain": [
       "array([1, 2, 3, 4, 5, 6, 7, 8, 9])"
      ]
     },
     "execution_count": 381,
     "metadata": {},
     "output_type": "execute_result"
    }
   ],
   "source": [
    "print(x2)\n",
    "np.delete(x2,0) # 0 is index position"
   ]
  },
  {
   "cell_type": "markdown",
   "id": "61120fbe",
   "metadata": {},
   "source": [
    "Did you see? 2 value is deleted from x2 which was at index position 2"
   ]
  },
  {
   "cell_type": "markdown",
   "id": "8372e745",
   "metadata": {},
   "source": [
    "# Mathematical operations on Numpy - Trignometry "
   ]
  },
  {
   "cell_type": "code",
   "execution_count": 382,
   "id": "13b62dbe",
   "metadata": {},
   "outputs": [],
   "source": [
    "# defining a\n",
    "a = np.array([[1,2,3],[4,5,6],[7,8,9]])"
   ]
  },
  {
   "cell_type": "code",
   "execution_count": 383,
   "id": "3990f831",
   "metadata": {},
   "outputs": [
    {
     "data": {
      "text/plain": [
       "array([[ 0.84147098,  0.90929743,  0.14112001],\n",
       "       [-0.7568025 , -0.95892427, -0.2794155 ],\n",
       "       [ 0.6569866 ,  0.98935825,  0.41211849]])"
      ]
     },
     "execution_count": 383,
     "metadata": {},
     "output_type": "execute_result"
    }
   ],
   "source": [
    "# print trigonometric sin value of each element of a\n",
    "np.sin(a)"
   ]
  },
  {
   "cell_type": "code",
   "execution_count": 384,
   "id": "b4ffd600",
   "metadata": {},
   "outputs": [
    {
     "data": {
      "text/plain": [
       "array([[ 1.55740772, -2.18503986, -0.14254654],\n",
       "       [ 1.15782128, -3.38051501, -0.29100619],\n",
       "       [ 0.87144798, -6.79971146, -0.45231566]])"
      ]
     },
     "execution_count": 384,
     "metadata": {},
     "output_type": "execute_result"
    }
   ],
   "source": [
    "(np.sin(a))/(np.cos(a))"
   ]
  },
  {
   "cell_type": "code",
   "execution_count": 385,
   "id": "73170471",
   "metadata": {},
   "outputs": [
    {
     "data": {
      "text/plain": [
       "array([[ 0.54030231, -0.41614684, -0.9899925 ],\n",
       "       [-0.65364362,  0.28366219,  0.96017029],\n",
       "       [ 0.75390225, -0.14550003, -0.91113026]])"
      ]
     },
     "execution_count": 385,
     "metadata": {},
     "output_type": "execute_result"
    }
   ],
   "source": [
    "# print trigonometric cos value of each element of a\n",
    "np.cos(a)"
   ]
  },
  {
   "cell_type": "code",
   "execution_count": 386,
   "id": "5aa1b2fa",
   "metadata": {},
   "outputs": [
    {
     "data": {
      "text/plain": [
       "array([[2.71828183e+00, 7.38905610e+00, 2.00855369e+01],\n",
       "       [5.45981500e+01, 1.48413159e+02, 4.03428793e+02],\n",
       "       [1.09663316e+03, 2.98095799e+03, 8.10308393e+03]])"
      ]
     },
     "execution_count": 386,
     "metadata": {},
     "output_type": "execute_result"
    }
   ],
   "source": [
    "# Print exponential value of each elements of a\n",
    "np.exp(a)"
   ]
  },
  {
   "cell_type": "code",
   "execution_count": 387,
   "id": "c1c4209e",
   "metadata": {},
   "outputs": [
    {
     "data": {
      "text/plain": [
       "45"
      ]
     },
     "execution_count": 387,
     "metadata": {},
     "output_type": "execute_result"
    }
   ],
   "source": [
    "# print total sum of elements of a\n",
    "np.sum(a)"
   ]
  },
  {
   "cell_type": "code",
   "execution_count": 388,
   "id": "9d5145ca",
   "metadata": {},
   "outputs": [],
   "source": [
    "# axis = 1 column wise\n",
    "# axis = 0 row wise"
   ]
  },
  {
   "cell_type": "code",
   "execution_count": 389,
   "id": "cc40b72a",
   "metadata": {},
   "outputs": [
    {
     "data": {
      "text/plain": [
       "array([[1, 2, 3],\n",
       "       [4, 5, 6],\n",
       "       [7, 8, 9]])"
      ]
     },
     "execution_count": 389,
     "metadata": {},
     "output_type": "execute_result"
    }
   ],
   "source": [
    "a"
   ]
  },
  {
   "cell_type": "code",
   "execution_count": 390,
   "id": "27960f73",
   "metadata": {},
   "outputs": [
    {
     "data": {
      "text/plain": [
       "array([ 6, 15, 24])"
      ]
     },
     "execution_count": 390,
     "metadata": {},
     "output_type": "execute_result"
    }
   ],
   "source": [
    "# Print sum in array a column wise. axis =1 means column wise\n",
    "np.sum(a, axis=1)"
   ]
  },
  {
   "cell_type": "code",
   "execution_count": 391,
   "id": "6491fab7",
   "metadata": {},
   "outputs": [
    {
     "data": {
      "text/plain": [
       "array([12, 15, 18])"
      ]
     },
     "execution_count": 391,
     "metadata": {},
     "output_type": "execute_result"
    }
   ],
   "source": [
    "# Print sum in array a row wise. 0 means row wise\n",
    "np.sum(a, axis=0)"
   ]
  },
  {
   "cell_type": "markdown",
   "id": "7fab16f3",
   "metadata": {},
   "source": [
    "<img src=\"https://th.bing.com/th/id/R.9230ced1c11e813fb069ddcac6566fdf?rik=C1ohvKa4zik%2b4w&riu=http%3a%2f%2flh5.ggpht.com%2f-1oz5Rz51kmo%2fU_xUcCLo4KI%2fAAAAAAAAB1g%2fyzk9KPcJ-NM%2fmeasures%25252520of%25252520central%25252520tendency_thumb%2525255B13%2525255D.gif%3fimgmax%3d800&ehk=%2bBH1cRV14pqT3nEfMTOkYImdkFZDlqR6fFJ1eM%2bKAcw%3d&risl=&pid=ImgRaw&r=0\">"
   ]
  },
  {
   "cell_type": "markdown",
   "id": "70a1da4a",
   "metadata": {},
   "source": [
    "# Statistics - Mean, Median and Mode\n",
    "* Mean - If i have 10 members, each member is equal to 2 and want average. 2+2+2+2+2+2+2+2+2+2/10\n",
    "* Mean = Sum of all values divided by total no of items available\n",
    "* Median = Middle. \n",
    "* Mode = same type of data is considered as 'mode'. Most frequently occuring data\n",
    "\n",
    "\n"
   ]
  },
  {
   "cell_type": "code",
   "execution_count": 392,
   "id": "45f5de61",
   "metadata": {},
   "outputs": [
    {
     "data": {
      "text/plain": [
       "array([[1, 2, 3],\n",
       "       [4, 5, 6],\n",
       "       [7, 8, 9]])"
      ]
     },
     "execution_count": 392,
     "metadata": {},
     "output_type": "execute_result"
    }
   ],
   "source": [
    "a"
   ]
  },
  {
   "cell_type": "code",
   "execution_count": 393,
   "id": "93afc56f",
   "metadata": {},
   "outputs": [
    {
     "data": {
      "text/plain": [
       "5.0"
      ]
     },
     "execution_count": 393,
     "metadata": {},
     "output_type": "execute_result"
    }
   ],
   "source": [
    "np.median(a)"
   ]
  },
  {
   "cell_type": "markdown",
   "id": "7246bebe",
   "metadata": {},
   "source": [
    "<img src=\"https://th.bing.com/th/id/R.a2c52d7062fa0de9d9df6032b7e0da75?rik=ptW1AfWGEGJi%2fQ&riu=http%3a%2f%2fimage.slideserve.com%2f274561%2fformula-for-standard-deviation-l.jpg&ehk=VClOXZLFkcG6HPqdc7rRMwWSMjYJ2T%2fGN1A8smQgV5Q%3d&risl=&pid=ImgRaw&r=0\">"
   ]
  },
  {
   "cell_type": "code",
   "execution_count": 394,
   "id": "2a204918",
   "metadata": {},
   "outputs": [
    {
     "data": {
      "text/plain": [
       "2.581988897471611"
      ]
     },
     "execution_count": 394,
     "metadata": {},
     "output_type": "execute_result"
    }
   ],
   "source": [
    "np.std(a)"
   ]
  },
  {
   "cell_type": "code",
   "execution_count": 395,
   "id": "583fee19",
   "metadata": {},
   "outputs": [
    {
     "data": {
      "text/plain": [
       "9"
      ]
     },
     "execution_count": 395,
     "metadata": {},
     "output_type": "execute_result"
    }
   ],
   "source": [
    "np.max(a)"
   ]
  },
  {
   "cell_type": "code",
   "execution_count": 396,
   "id": "7898ede4",
   "metadata": {},
   "outputs": [
    {
     "data": {
      "text/plain": [
       "5.0"
      ]
     },
     "execution_count": 396,
     "metadata": {},
     "output_type": "execute_result"
    }
   ],
   "source": [
    "np.mean(a)"
   ]
  },
  {
   "cell_type": "code",
   "execution_count": 397,
   "id": "3ecdc22f",
   "metadata": {},
   "outputs": [
    {
     "data": {
      "text/plain": [
       "array([[1, 2, 3],\n",
       "       [4, 5, 6],\n",
       "       [7, 8, 9]])"
      ]
     },
     "execution_count": 397,
     "metadata": {},
     "output_type": "execute_result"
    }
   ],
   "source": [
    "np.sort(a)"
   ]
  },
  {
   "cell_type": "markdown",
   "id": "b605c32c",
   "metadata": {},
   "source": [
    "## Searching Arrays\n",
    "\n",
    "You can search an array for a certain value, and return the indexes that get a match.\n",
    "\n",
    "To search an array, use the where() method.\n",
    "\n",
    "<p style='text-align: right;'> 4 points </p>"
   ]
  },
  {
   "cell_type": "code",
   "execution_count": 398,
   "id": "76472205",
   "metadata": {},
   "outputs": [
    {
     "data": {
      "text/plain": [
       "(array([1], dtype=int64), array([0], dtype=int64))"
      ]
     },
     "execution_count": 398,
     "metadata": {},
     "output_type": "execute_result"
    }
   ],
   "source": [
    "# where is used to find particular element in array\n",
    "m = np.where(a==4)\n",
    "m"
   ]
  },
  {
   "cell_type": "code",
   "execution_count": 399,
   "id": "2073ab51",
   "metadata": {},
   "outputs": [
    {
     "data": {
      "text/plain": [
       "array([100,   1,   2,   3,   4,   5,   6,   7,   8,   9])"
      ]
     },
     "execution_count": 399,
     "metadata": {},
     "output_type": "execute_result"
    }
   ],
   "source": [
    "#print array x1\n",
    "x1"
   ]
  },
  {
   "cell_type": "code",
   "execution_count": 400,
   "id": "5e73bb06",
   "metadata": {},
   "outputs": [
    {
     "data": {
      "text/plain": [
       "(array([0, 2, 4, 6, 8], dtype=int64),)"
      ]
     },
     "execution_count": 400,
     "metadata": {},
     "output_type": "execute_result"
    }
   ],
   "source": [
    "# Print the indexes where the values are even in array x1\n",
    "np.where(x1%2 == 0)"
   ]
  },
  {
   "cell_type": "code",
   "execution_count": 401,
   "id": "abc88e7e",
   "metadata": {},
   "outputs": [
    {
     "name": "stdout",
     "output_type": "stream",
     "text": [
      "[100   1   2   3   4   5   6   7   8   9]\n"
     ]
    },
    {
     "data": {
      "text/plain": [
       "array([100,   0,   0,   0,   0,   0,   6,   7,   8,   9])"
      ]
     },
     "execution_count": 401,
     "metadata": {},
     "output_type": "execute_result"
    }
   ],
   "source": [
    "# in a array show where elements are greater than 5 and replace other elements with 0\n",
    "print(x1)\n",
    "np.where(x1>5,x1,0)"
   ]
  },
  {
   "cell_type": "code",
   "execution_count": null,
   "id": "df4cd810",
   "metadata": {},
   "outputs": [],
   "source": []
  },
  {
   "cell_type": "code",
   "execution_count": null,
   "id": "4ecee11c",
   "metadata": {},
   "outputs": [],
   "source": []
  },
  {
   "cell_type": "code",
   "execution_count": null,
   "id": "eaec8297",
   "metadata": {},
   "outputs": [],
   "source": []
  }
 ],
 "metadata": {
  "kernelspec": {
   "display_name": "Python 3",
   "language": "python",
   "name": "python3"
  },
  "language_info": {
   "codemirror_mode": {
    "name": "ipython",
    "version": 3
   },
   "file_extension": ".py",
   "mimetype": "text/x-python",
   "name": "python",
   "nbconvert_exporter": "python",
   "pygments_lexer": "ipython3",
   "version": "3.8.8"
  }
 },
 "nbformat": 4,
 "nbformat_minor": 5
}
